{
 "cells": [
  {
   "cell_type": "markdown",
   "id": "9e752c12",
   "metadata": {},
   "source": [
    "# Dataset: NetFlix Shows\n",
    "> ~9000 NetFlix English Shows with Full Details"
   ]
  },
  {
   "cell_type": "markdown",
   "id": "be7b9661",
   "metadata": {},
   "source": [
    "<img src=\"https://images.unsplash.com/photo-1574375927938-d5a98e8ffe85?fm=jpg&q=60&w=3000&ixlib=rb-4.0.3&ixid=M3wxMjA3fDB8MHxzZWFyY2h8NHx8bmV0ZmxpeHxlbnwwfHwwfHx8MA%3D%3D\" width=\"1000\" height=\"500\">\n"
   ]
  },
  {
   "cell_type": "markdown",
   "id": "b34647eb",
   "metadata": {},
   "source": [
    "---\n",
    "\n",
    "### 👨‍💻 **Author: Abdul Samad**\n",
    "\n",
    "- 🔗 **LinkedIn:**  \n",
    "  [https://www.linkedin.com/in/abdulsamad577/](https://www.linkedin.com/in/abdulsamad577/)\n",
    "  \n",
    "- 🧠 **Kaggle Profile:**  \n",
    "  [https://www.kaggle.com/samad0015](https://www.kaggle.com/samad0015)\n",
    "\n",
    "---\n",
    "\n",
    "\n"
   ]
  },
  {
   "cell_type": "markdown",
   "id": "4e90d2a8",
   "metadata": {},
   "source": [
    "## About Dataset\n",
    "The raw data is Web Scrapped through Selenium. It contains Unlabelled text data of around 9000 Netflix Shows and Movies along with Full details like Cast, Release Year, Rating, Description, etc."
   ]
  },
  {
   "cell_type": "markdown",
   "id": "44649e2d",
   "metadata": {},
   "source": [
    "# Exploratory Data Analysis"
   ]
  },
  {
   "cell_type": "markdown",
   "id": "881ed19d",
   "metadata": {},
   "source": [
    "> Following Steps to Explore the Data:"
   ]
  },
  {
   "cell_type": "markdown",
   "id": "4fd58054",
   "metadata": {},
   "source": [
    "## 1. Import Libraries"
   ]
  },
  {
   "cell_type": "code",
   "execution_count": 1,
   "id": "24c3b865",
   "metadata": {},
   "outputs": [],
   "source": [
    "import pandas as pd\n",
    "import seaborn as sns\n",
    "import numpy as np\n",
    "import matplotlib.pyplot as plt\n",
    "import warnings\n",
    "warnings.filterwarnings('ignore')"
   ]
  },
  {
   "cell_type": "markdown",
   "id": "f0651e5d",
   "metadata": {},
   "source": [
    "## 2. Load data"
   ]
  },
  {
   "cell_type": "code",
   "execution_count": 2,
   "id": "1c076b4f",
   "metadata": {},
   "outputs": [],
   "source": [
    "file_path = 'C:/Users/Sami/Desktop/Skills/1_month_practice/week1/D5/netflix/netflix_titles.csv'\n",
    "df=pd.read_csv(file_path)"
   ]
  },
  {
   "cell_type": "markdown",
   "id": "3d6a97a0",
   "metadata": {},
   "source": [
    "## 3. Basic exploration"
   ]
  },
  {
   "cell_type": "code",
   "execution_count": 3,
   "id": "c9d547f1",
   "metadata": {},
   "outputs": [
    {
     "data": {
      "text/html": [
       "<div>\n",
       "<style scoped>\n",
       "    .dataframe tbody tr th:only-of-type {\n",
       "        vertical-align: middle;\n",
       "    }\n",
       "\n",
       "    .dataframe tbody tr th {\n",
       "        vertical-align: top;\n",
       "    }\n",
       "\n",
       "    .dataframe thead th {\n",
       "        text-align: right;\n",
       "    }\n",
       "</style>\n",
       "<table border=\"1\" class=\"dataframe\">\n",
       "  <thead>\n",
       "    <tr style=\"text-align: right;\">\n",
       "      <th></th>\n",
       "      <th>show_id</th>\n",
       "      <th>type</th>\n",
       "      <th>title</th>\n",
       "      <th>director</th>\n",
       "      <th>cast</th>\n",
       "      <th>country</th>\n",
       "      <th>date_added</th>\n",
       "      <th>release_year</th>\n",
       "      <th>rating</th>\n",
       "      <th>duration</th>\n",
       "      <th>listed_in</th>\n",
       "      <th>description</th>\n",
       "    </tr>\n",
       "  </thead>\n",
       "  <tbody>\n",
       "    <tr>\n",
       "      <th>0</th>\n",
       "      <td>s1</td>\n",
       "      <td>Movie</td>\n",
       "      <td>Dick Johnson Is Dead</td>\n",
       "      <td>Kirsten Johnson</td>\n",
       "      <td>NaN</td>\n",
       "      <td>United States</td>\n",
       "      <td>September 25, 2021</td>\n",
       "      <td>2020</td>\n",
       "      <td>PG-13</td>\n",
       "      <td>90 min</td>\n",
       "      <td>Documentaries</td>\n",
       "      <td>As her father nears the end of his life, filmm...</td>\n",
       "    </tr>\n",
       "    <tr>\n",
       "      <th>1</th>\n",
       "      <td>s2</td>\n",
       "      <td>TV Show</td>\n",
       "      <td>Blood &amp; Water</td>\n",
       "      <td>NaN</td>\n",
       "      <td>Ama Qamata, Khosi Ngema, Gail Mabalane, Thaban...</td>\n",
       "      <td>South Africa</td>\n",
       "      <td>September 24, 2021</td>\n",
       "      <td>2021</td>\n",
       "      <td>TV-MA</td>\n",
       "      <td>2 Seasons</td>\n",
       "      <td>International TV Shows, TV Dramas, TV Mysteries</td>\n",
       "      <td>After crossing paths at a party, a Cape Town t...</td>\n",
       "    </tr>\n",
       "    <tr>\n",
       "      <th>2</th>\n",
       "      <td>s3</td>\n",
       "      <td>TV Show</td>\n",
       "      <td>Ganglands</td>\n",
       "      <td>Julien Leclercq</td>\n",
       "      <td>Sami Bouajila, Tracy Gotoas, Samuel Jouy, Nabi...</td>\n",
       "      <td>NaN</td>\n",
       "      <td>September 24, 2021</td>\n",
       "      <td>2021</td>\n",
       "      <td>TV-MA</td>\n",
       "      <td>1 Season</td>\n",
       "      <td>Crime TV Shows, International TV Shows, TV Act...</td>\n",
       "      <td>To protect his family from a powerful drug lor...</td>\n",
       "    </tr>\n",
       "    <tr>\n",
       "      <th>3</th>\n",
       "      <td>s4</td>\n",
       "      <td>TV Show</td>\n",
       "      <td>Jailbirds New Orleans</td>\n",
       "      <td>NaN</td>\n",
       "      <td>NaN</td>\n",
       "      <td>NaN</td>\n",
       "      <td>September 24, 2021</td>\n",
       "      <td>2021</td>\n",
       "      <td>TV-MA</td>\n",
       "      <td>1 Season</td>\n",
       "      <td>Docuseries, Reality TV</td>\n",
       "      <td>Feuds, flirtations and toilet talk go down amo...</td>\n",
       "    </tr>\n",
       "    <tr>\n",
       "      <th>4</th>\n",
       "      <td>s5</td>\n",
       "      <td>TV Show</td>\n",
       "      <td>Kota Factory</td>\n",
       "      <td>NaN</td>\n",
       "      <td>Mayur More, Jitendra Kumar, Ranjan Raj, Alam K...</td>\n",
       "      <td>India</td>\n",
       "      <td>September 24, 2021</td>\n",
       "      <td>2021</td>\n",
       "      <td>TV-MA</td>\n",
       "      <td>2 Seasons</td>\n",
       "      <td>International TV Shows, Romantic TV Shows, TV ...</td>\n",
       "      <td>In a city of coaching centers known to train I...</td>\n",
       "    </tr>\n",
       "  </tbody>\n",
       "</table>\n",
       "</div>"
      ],
      "text/plain": [
       "  show_id     type                  title         director  \\\n",
       "0      s1    Movie   Dick Johnson Is Dead  Kirsten Johnson   \n",
       "1      s2  TV Show          Blood & Water              NaN   \n",
       "2      s3  TV Show              Ganglands  Julien Leclercq   \n",
       "3      s4  TV Show  Jailbirds New Orleans              NaN   \n",
       "4      s5  TV Show           Kota Factory              NaN   \n",
       "\n",
       "                                                cast        country  \\\n",
       "0                                                NaN  United States   \n",
       "1  Ama Qamata, Khosi Ngema, Gail Mabalane, Thaban...   South Africa   \n",
       "2  Sami Bouajila, Tracy Gotoas, Samuel Jouy, Nabi...            NaN   \n",
       "3                                                NaN            NaN   \n",
       "4  Mayur More, Jitendra Kumar, Ranjan Raj, Alam K...          India   \n",
       "\n",
       "           date_added  release_year rating   duration  \\\n",
       "0  September 25, 2021          2020  PG-13     90 min   \n",
       "1  September 24, 2021          2021  TV-MA  2 Seasons   \n",
       "2  September 24, 2021          2021  TV-MA   1 Season   \n",
       "3  September 24, 2021          2021  TV-MA   1 Season   \n",
       "4  September 24, 2021          2021  TV-MA  2 Seasons   \n",
       "\n",
       "                                           listed_in  \\\n",
       "0                                      Documentaries   \n",
       "1    International TV Shows, TV Dramas, TV Mysteries   \n",
       "2  Crime TV Shows, International TV Shows, TV Act...   \n",
       "3                             Docuseries, Reality TV   \n",
       "4  International TV Shows, Romantic TV Shows, TV ...   \n",
       "\n",
       "                                         description  \n",
       "0  As her father nears the end of his life, filmm...  \n",
       "1  After crossing paths at a party, a Cape Town t...  \n",
       "2  To protect his family from a powerful drug lor...  \n",
       "3  Feuds, flirtations and toilet talk go down amo...  \n",
       "4  In a city of coaching centers known to train I...  "
      ]
     },
     "execution_count": 3,
     "metadata": {},
     "output_type": "execute_result"
    }
   ],
   "source": [
    "df.head()"
   ]
  },
  {
   "cell_type": "code",
   "execution_count": 4,
   "id": "d3914a64",
   "metadata": {},
   "outputs": [
    {
     "data": {
      "text/html": [
       "<div>\n",
       "<style scoped>\n",
       "    .dataframe tbody tr th:only-of-type {\n",
       "        vertical-align: middle;\n",
       "    }\n",
       "\n",
       "    .dataframe tbody tr th {\n",
       "        vertical-align: top;\n",
       "    }\n",
       "\n",
       "    .dataframe thead th {\n",
       "        text-align: right;\n",
       "    }\n",
       "</style>\n",
       "<table border=\"1\" class=\"dataframe\">\n",
       "  <thead>\n",
       "    <tr style=\"text-align: right;\">\n",
       "      <th></th>\n",
       "      <th>show_id</th>\n",
       "      <th>type</th>\n",
       "      <th>title</th>\n",
       "      <th>director</th>\n",
       "      <th>cast</th>\n",
       "      <th>country</th>\n",
       "      <th>date_added</th>\n",
       "      <th>release_year</th>\n",
       "      <th>rating</th>\n",
       "      <th>duration</th>\n",
       "      <th>listed_in</th>\n",
       "      <th>description</th>\n",
       "    </tr>\n",
       "  </thead>\n",
       "  <tbody>\n",
       "    <tr>\n",
       "      <th>8802</th>\n",
       "      <td>s8803</td>\n",
       "      <td>Movie</td>\n",
       "      <td>Zodiac</td>\n",
       "      <td>David Fincher</td>\n",
       "      <td>Mark Ruffalo, Jake Gyllenhaal, Robert Downey J...</td>\n",
       "      <td>United States</td>\n",
       "      <td>November 20, 2019</td>\n",
       "      <td>2007</td>\n",
       "      <td>R</td>\n",
       "      <td>158 min</td>\n",
       "      <td>Cult Movies, Dramas, Thrillers</td>\n",
       "      <td>A political cartoonist, a crime reporter and a...</td>\n",
       "    </tr>\n",
       "    <tr>\n",
       "      <th>8803</th>\n",
       "      <td>s8804</td>\n",
       "      <td>TV Show</td>\n",
       "      <td>Zombie Dumb</td>\n",
       "      <td>NaN</td>\n",
       "      <td>NaN</td>\n",
       "      <td>NaN</td>\n",
       "      <td>July 1, 2019</td>\n",
       "      <td>2018</td>\n",
       "      <td>TV-Y7</td>\n",
       "      <td>2 Seasons</td>\n",
       "      <td>Kids' TV, Korean TV Shows, TV Comedies</td>\n",
       "      <td>While living alone in a spooky town, a young g...</td>\n",
       "    </tr>\n",
       "    <tr>\n",
       "      <th>8804</th>\n",
       "      <td>s8805</td>\n",
       "      <td>Movie</td>\n",
       "      <td>Zombieland</td>\n",
       "      <td>Ruben Fleischer</td>\n",
       "      <td>Jesse Eisenberg, Woody Harrelson, Emma Stone, ...</td>\n",
       "      <td>United States</td>\n",
       "      <td>November 1, 2019</td>\n",
       "      <td>2009</td>\n",
       "      <td>R</td>\n",
       "      <td>88 min</td>\n",
       "      <td>Comedies, Horror Movies</td>\n",
       "      <td>Looking to survive in a world taken over by zo...</td>\n",
       "    </tr>\n",
       "    <tr>\n",
       "      <th>8805</th>\n",
       "      <td>s8806</td>\n",
       "      <td>Movie</td>\n",
       "      <td>Zoom</td>\n",
       "      <td>Peter Hewitt</td>\n",
       "      <td>Tim Allen, Courteney Cox, Chevy Chase, Kate Ma...</td>\n",
       "      <td>United States</td>\n",
       "      <td>January 11, 2020</td>\n",
       "      <td>2006</td>\n",
       "      <td>PG</td>\n",
       "      <td>88 min</td>\n",
       "      <td>Children &amp; Family Movies, Comedies</td>\n",
       "      <td>Dragged from civilian life, a former superhero...</td>\n",
       "    </tr>\n",
       "    <tr>\n",
       "      <th>8806</th>\n",
       "      <td>s8807</td>\n",
       "      <td>Movie</td>\n",
       "      <td>Zubaan</td>\n",
       "      <td>Mozez Singh</td>\n",
       "      <td>Vicky Kaushal, Sarah-Jane Dias, Raaghav Chanan...</td>\n",
       "      <td>India</td>\n",
       "      <td>March 2, 2019</td>\n",
       "      <td>2015</td>\n",
       "      <td>TV-14</td>\n",
       "      <td>111 min</td>\n",
       "      <td>Dramas, International Movies, Music &amp; Musicals</td>\n",
       "      <td>A scrappy but poor boy worms his way into a ty...</td>\n",
       "    </tr>\n",
       "  </tbody>\n",
       "</table>\n",
       "</div>"
      ],
      "text/plain": [
       "     show_id     type        title         director  \\\n",
       "8802   s8803    Movie       Zodiac    David Fincher   \n",
       "8803   s8804  TV Show  Zombie Dumb              NaN   \n",
       "8804   s8805    Movie   Zombieland  Ruben Fleischer   \n",
       "8805   s8806    Movie         Zoom     Peter Hewitt   \n",
       "8806   s8807    Movie       Zubaan      Mozez Singh   \n",
       "\n",
       "                                                   cast        country  \\\n",
       "8802  Mark Ruffalo, Jake Gyllenhaal, Robert Downey J...  United States   \n",
       "8803                                                NaN            NaN   \n",
       "8804  Jesse Eisenberg, Woody Harrelson, Emma Stone, ...  United States   \n",
       "8805  Tim Allen, Courteney Cox, Chevy Chase, Kate Ma...  United States   \n",
       "8806  Vicky Kaushal, Sarah-Jane Dias, Raaghav Chanan...          India   \n",
       "\n",
       "             date_added  release_year rating   duration  \\\n",
       "8802  November 20, 2019          2007      R    158 min   \n",
       "8803       July 1, 2019          2018  TV-Y7  2 Seasons   \n",
       "8804   November 1, 2019          2009      R     88 min   \n",
       "8805   January 11, 2020          2006     PG     88 min   \n",
       "8806      March 2, 2019          2015  TV-14    111 min   \n",
       "\n",
       "                                           listed_in  \\\n",
       "8802                  Cult Movies, Dramas, Thrillers   \n",
       "8803          Kids' TV, Korean TV Shows, TV Comedies   \n",
       "8804                         Comedies, Horror Movies   \n",
       "8805              Children & Family Movies, Comedies   \n",
       "8806  Dramas, International Movies, Music & Musicals   \n",
       "\n",
       "                                            description  \n",
       "8802  A political cartoonist, a crime reporter and a...  \n",
       "8803  While living alone in a spooky town, a young g...  \n",
       "8804  Looking to survive in a world taken over by zo...  \n",
       "8805  Dragged from civilian life, a former superhero...  \n",
       "8806  A scrappy but poor boy worms his way into a ty...  "
      ]
     },
     "execution_count": 4,
     "metadata": {},
     "output_type": "execute_result"
    }
   ],
   "source": [
    "df.tail()"
   ]
  },
  {
   "cell_type": "code",
   "execution_count": 5,
   "id": "02cffd4a",
   "metadata": {},
   "outputs": [
    {
     "data": {
      "text/html": [
       "<div>\n",
       "<style scoped>\n",
       "    .dataframe tbody tr th:only-of-type {\n",
       "        vertical-align: middle;\n",
       "    }\n",
       "\n",
       "    .dataframe tbody tr th {\n",
       "        vertical-align: top;\n",
       "    }\n",
       "\n",
       "    .dataframe thead th {\n",
       "        text-align: right;\n",
       "    }\n",
       "</style>\n",
       "<table border=\"1\" class=\"dataframe\">\n",
       "  <thead>\n",
       "    <tr style=\"text-align: right;\">\n",
       "      <th></th>\n",
       "      <th>release_year</th>\n",
       "    </tr>\n",
       "  </thead>\n",
       "  <tbody>\n",
       "    <tr>\n",
       "      <th>count</th>\n",
       "      <td>8807.000000</td>\n",
       "    </tr>\n",
       "    <tr>\n",
       "      <th>mean</th>\n",
       "      <td>2014.180198</td>\n",
       "    </tr>\n",
       "    <tr>\n",
       "      <th>std</th>\n",
       "      <td>8.819312</td>\n",
       "    </tr>\n",
       "    <tr>\n",
       "      <th>min</th>\n",
       "      <td>1925.000000</td>\n",
       "    </tr>\n",
       "    <tr>\n",
       "      <th>25%</th>\n",
       "      <td>2013.000000</td>\n",
       "    </tr>\n",
       "    <tr>\n",
       "      <th>50%</th>\n",
       "      <td>2017.000000</td>\n",
       "    </tr>\n",
       "    <tr>\n",
       "      <th>75%</th>\n",
       "      <td>2019.000000</td>\n",
       "    </tr>\n",
       "    <tr>\n",
       "      <th>max</th>\n",
       "      <td>2021.000000</td>\n",
       "    </tr>\n",
       "  </tbody>\n",
       "</table>\n",
       "</div>"
      ],
      "text/plain": [
       "       release_year\n",
       "count   8807.000000\n",
       "mean    2014.180198\n",
       "std        8.819312\n",
       "min     1925.000000\n",
       "25%     2013.000000\n",
       "50%     2017.000000\n",
       "75%     2019.000000\n",
       "max     2021.000000"
      ]
     },
     "execution_count": 5,
     "metadata": {},
     "output_type": "execute_result"
    }
   ],
   "source": [
    "df.describe()"
   ]
  },
  {
   "cell_type": "markdown",
   "id": "6a658da6",
   "metadata": {},
   "source": [
    " #### Check the Percentage of Missing values in Dataset"
   ]
  },
  {
   "cell_type": "code",
   "execution_count": 6,
   "id": "9cc9ae6e",
   "metadata": {},
   "outputs": [
    {
     "data": {
      "text/plain": [
       "show_id          0.000000\n",
       "type             0.000000\n",
       "title            0.000000\n",
       "director        29.908028\n",
       "cast             9.367549\n",
       "country          9.435676\n",
       "date_added       0.113546\n",
       "release_year     0.000000\n",
       "rating           0.045418\n",
       "duration         0.034064\n",
       "listed_in        0.000000\n",
       "description      0.000000\n",
       "dtype: float64"
      ]
     },
     "execution_count": 6,
     "metadata": {},
     "output_type": "execute_result"
    }
   ],
   "source": [
    "df.isnull().sum()/len(df)*100"
   ]
  },
  {
   "cell_type": "markdown",
   "id": "0e20d9b9",
   "metadata": {},
   "source": [
    "## 4. Impute the missing values of each column"
   ]
  },
  {
   "cell_type": "markdown",
   "id": "c637b094",
   "metadata": {},
   "source": [
    "### Column 'type'"
   ]
  },
  {
   "cell_type": "code",
   "execution_count": 7,
   "id": "259510c8",
   "metadata": {},
   "outputs": [
    {
     "data": {
      "text/plain": [
       "array(['Movie', 'TV Show'], dtype=object)"
      ]
     },
     "execution_count": 7,
     "metadata": {},
     "output_type": "execute_result"
    }
   ],
   "source": [
    "df['type'].unique()"
   ]
  },
  {
   "cell_type": "code",
   "execution_count": 8,
   "id": "7973752b",
   "metadata": {},
   "outputs": [
    {
     "data": {
      "text/plain": [
       "type\n",
       "Movie      6131\n",
       "TV Show    2676\n",
       "Name: count, dtype: int64"
      ]
     },
     "execution_count": 8,
     "metadata": {},
     "output_type": "execute_result"
    }
   ],
   "source": [
    "df['type'].value_counts()"
   ]
  },
  {
   "cell_type": "code",
   "execution_count": 9,
   "id": "789e8baf",
   "metadata": {},
   "outputs": [
    {
     "data": {
      "text/plain": [
       "np.int64(0)"
      ]
     },
     "execution_count": 9,
     "metadata": {},
     "output_type": "execute_result"
    }
   ],
   "source": [
    "df['type'].isnull().sum()"
   ]
  },
  {
   "cell_type": "markdown",
   "id": "4c3c46f1",
   "metadata": {},
   "source": [
    "> So this column is clear we don't need any imputation on them."
   ]
  },
  {
   "cell_type": "markdown",
   "id": "dfab07a9",
   "metadata": {},
   "source": [
    "### Column 'Director'"
   ]
  },
  {
   "cell_type": "code",
   "execution_count": 10,
   "id": "2b1ed584",
   "metadata": {},
   "outputs": [
    {
     "data": {
      "text/plain": [
       "np.int64(2634)"
      ]
     },
     "execution_count": 10,
     "metadata": {},
     "output_type": "execute_result"
    }
   ],
   "source": [
    "df['director'].isnull().sum()"
   ]
  },
  {
   "cell_type": "code",
   "execution_count": 11,
   "id": "7b3f19d2",
   "metadata": {},
   "outputs": [
    {
     "data": {
      "text/plain": [
       "director\n",
       "Rajiv Chilaka              19\n",
       "Raúl Campos, Jan Suter     18\n",
       "Suhas Kadav                16\n",
       "Marcus Raboy               16\n",
       "Jay Karas                  14\n",
       "                           ..\n",
       "James Brown                 1\n",
       "Ivona Juka                  1\n",
       "Mu Chu                      1\n",
       "Chandra Prakash Dwivedi     1\n",
       "Majid Al Ansari             1\n",
       "Name: count, Length: 4528, dtype: int64"
      ]
     },
     "execution_count": 11,
     "metadata": {},
     "output_type": "execute_result"
    }
   ],
   "source": [
    "df['director'].value_counts()"
   ]
  },
  {
   "cell_type": "code",
   "execution_count": 12,
   "id": "b11f1c8d",
   "metadata": {},
   "outputs": [
    {
     "data": {
      "text/plain": [
       "4528"
      ]
     },
     "execution_count": 12,
     "metadata": {},
     "output_type": "execute_result"
    }
   ],
   "source": [
    "df['director'].nunique()"
   ]
  },
  {
   "cell_type": "markdown",
   "id": "57ae0a66",
   "metadata": {},
   "source": [
    "> There are alot of Directors of movies, so it is not possible to impute the director with respect to most frequent director name. So we will skip it for now."
   ]
  },
  {
   "cell_type": "markdown",
   "id": "5cf7f13b",
   "metadata": {},
   "source": [
    "### Column 'cast'"
   ]
  },
  {
   "cell_type": "code",
   "execution_count": 13,
   "id": "e53c8724",
   "metadata": {},
   "outputs": [
    {
     "data": {
      "text/plain": [
       "np.int64(825)"
      ]
     },
     "execution_count": 13,
     "metadata": {},
     "output_type": "execute_result"
    }
   ],
   "source": [
    "df['cast'].isnull().sum()"
   ]
  },
  {
   "cell_type": "code",
   "execution_count": 14,
   "id": "df5657ad",
   "metadata": {},
   "outputs": [
    {
     "data": {
      "text/plain": [
       "7692"
      ]
     },
     "execution_count": 14,
     "metadata": {},
     "output_type": "execute_result"
    }
   ],
   "source": [
    "df['cast'].nunique()"
   ]
  },
  {
   "cell_type": "markdown",
   "id": "6916e0b7",
   "metadata": {},
   "source": [
    "> Cast is also different for each shows. So it is not possible to impute it according to previos data."
   ]
  },
  {
   "cell_type": "markdown",
   "id": "e1cc1017",
   "metadata": {},
   "source": [
    "#### So according to that we decided to remove the columns where missing the cast or director"
   ]
  },
  {
   "cell_type": "code",
   "execution_count": 15,
   "id": "15ff6415",
   "metadata": {},
   "outputs": [],
   "source": [
    "df=df.dropna(subset=['cast','director'])"
   ]
  },
  {
   "cell_type": "code",
   "execution_count": 16,
   "id": "b397fd73",
   "metadata": {},
   "outputs": [
    {
     "data": {
      "text/plain": [
       "show_id         0.000000\n",
       "type            0.000000\n",
       "title           0.000000\n",
       "director        0.000000\n",
       "cast            0.000000\n",
       "country         6.385965\n",
       "date_added      0.000000\n",
       "release_year    0.000000\n",
       "rating          0.017544\n",
       "duration        0.052632\n",
       "listed_in       0.000000\n",
       "description     0.000000\n",
       "dtype: float64"
      ]
     },
     "execution_count": 16,
     "metadata": {},
     "output_type": "execute_result"
    }
   ],
   "source": [
    "df.isnull().sum()/len(df)*100"
   ]
  },
  {
   "cell_type": "markdown",
   "id": "21e167dd",
   "metadata": {},
   "source": [
    "### Column 'country'"
   ]
  },
  {
   "cell_type": "code",
   "execution_count": 17,
   "id": "6b77c25f",
   "metadata": {},
   "outputs": [
    {
     "data": {
      "text/plain": [
       "country\n",
       "United States     1849\n",
       "India              875\n",
       "United Kingdom     183\n",
       "Canada             107\n",
       "Spain               91\n",
       "Name: count, dtype: int64"
      ]
     },
     "execution_count": 17,
     "metadata": {},
     "output_type": "execute_result"
    }
   ],
   "source": [
    "df['country'].value_counts().nlargest(5)"
   ]
  },
  {
   "cell_type": "code",
   "execution_count": 18,
   "id": "74a2af64",
   "metadata": {},
   "outputs": [
    {
     "data": {
      "text/plain": [
       "604"
      ]
     },
     "execution_count": 18,
     "metadata": {},
     "output_type": "execute_result"
    }
   ],
   "source": [
    "df['country'].nunique()"
   ]
  },
  {
   "cell_type": "markdown",
   "id": "7a64ed97",
   "metadata": {},
   "source": [
    "> we have 6% Null values, we know that there are 1800+ shows are recorder at United States so we have this most frequently occuring.\n",
    "> so impute it with most frequent occuring word. "
   ]
  },
  {
   "cell_type": "code",
   "execution_count": 19,
   "id": "1e1d9a62",
   "metadata": {},
   "outputs": [],
   "source": [
    "df['country'].fillna(df['country'].mode()[0],inplace = True)"
   ]
  },
  {
   "cell_type": "markdown",
   "id": "324a36e7",
   "metadata": {},
   "source": [
    "### Column 'date_added'"
   ]
  },
  {
   "cell_type": "code",
   "execution_count": 20,
   "id": "1eb22cce",
   "metadata": {},
   "outputs": [
    {
     "data": {
      "text/plain": [
       "np.int64(0)"
      ]
     },
     "execution_count": 20,
     "metadata": {},
     "output_type": "execute_result"
    }
   ],
   "source": [
    "df['date_added'].isnull().sum()"
   ]
  },
  {
   "cell_type": "code",
   "execution_count": 21,
   "id": "18115a50",
   "metadata": {},
   "outputs": [
    {
     "data": {
      "text/plain": [
       "date_added\n",
       "January 1, 2020       97\n",
       "November 1, 2019      70\n",
       "March 1, 2018         67\n",
       "December 31, 2019     67\n",
       "October 1, 2018       62\n",
       "                      ..\n",
       "September 26, 2018     1\n",
       "June 17, 2017          1\n",
       "October 21, 2018       1\n",
       "November 18, 2017      1\n",
       "September 6, 2021      1\n",
       "Name: count, Length: 1481, dtype: int64"
      ]
     },
     "execution_count": 21,
     "metadata": {},
     "output_type": "execute_result"
    }
   ],
   "source": [
    "df['date_added'].value_counts()"
   ]
  },
  {
   "cell_type": "code",
   "execution_count": 22,
   "id": "fb0e22cd",
   "metadata": {},
   "outputs": [],
   "source": [
    "df['date_added'] = df['date_added'].str.strip()  # Remove leading/trailing spaces\n",
    "df['date_added'] = pd.to_datetime(df['date_added'], format='mixed')\n"
   ]
  },
  {
   "cell_type": "code",
   "execution_count": 23,
   "id": "1ea7cd95",
   "metadata": {},
   "outputs": [
    {
     "data": {
      "text/plain": [
       "date_added\n",
       "2020-01-01    97\n",
       "2019-11-01    71\n",
       "2018-03-01    67\n",
       "2019-12-31    67\n",
       "2018-10-01    62\n",
       "              ..\n",
       "2017-12-22     1\n",
       "2017-12-30     1\n",
       "2018-01-22     1\n",
       "2017-03-23     1\n",
       "2018-09-27     1\n",
       "Name: count, Length: 1478, dtype: int64"
      ]
     },
     "execution_count": 23,
     "metadata": {},
     "output_type": "execute_result"
    }
   ],
   "source": [
    "df['date_added'].value_counts()"
   ]
  },
  {
   "cell_type": "markdown",
   "id": "4a586099",
   "metadata": {},
   "source": [
    "### Column 'release_year'"
   ]
  },
  {
   "cell_type": "code",
   "execution_count": 24,
   "id": "197e1bc3",
   "metadata": {},
   "outputs": [
    {
     "data": {
      "text/plain": [
       "np.int64(0)"
      ]
     },
     "execution_count": 24,
     "metadata": {},
     "output_type": "execute_result"
    }
   ],
   "source": [
    "df['release_year'].isnull().sum()"
   ]
  },
  {
   "cell_type": "code",
   "execution_count": 25,
   "id": "1189f62a",
   "metadata": {},
   "outputs": [
    {
     "data": {
      "text/plain": [
       "dtype('int64')"
      ]
     },
     "execution_count": 25,
     "metadata": {},
     "output_type": "execute_result"
    }
   ],
   "source": [
    "df.release_year.dtypes"
   ]
  },
  {
   "cell_type": "markdown",
   "id": "472c3de8",
   "metadata": {},
   "source": [
    "### Column 'rating'"
   ]
  },
  {
   "cell_type": "code",
   "execution_count": 26,
   "id": "b4ee147f",
   "metadata": {},
   "outputs": [
    {
     "data": {
      "text/plain": [
       "rating\n",
       "TV-MA       1939\n",
       "TV-14       1329\n",
       "R            789\n",
       "PG-13        477\n",
       "TV-PG        456\n",
       "PG           279\n",
       "TV-Y7        123\n",
       "TV-Y         102\n",
       "TV-G          96\n",
       "NR            58\n",
       "G             40\n",
       "TV-Y7-FV       3\n",
       "UR             3\n",
       "NC-17          2\n",
       "74 min         1\n",
       "84 min         1\n",
       "66 min         1\n",
       "Name: count, dtype: int64"
      ]
     },
     "execution_count": 26,
     "metadata": {},
     "output_type": "execute_result"
    }
   ],
   "source": [
    "df['rating'].nunique()\n",
    "df['rating'].value_counts()"
   ]
  },
  {
   "cell_type": "code",
   "execution_count": 27,
   "id": "d49b586c",
   "metadata": {},
   "outputs": [],
   "source": [
    "df['rating'].fillna(df['rating'].mode()[0],inplace=True)"
   ]
  },
  {
   "cell_type": "code",
   "execution_count": 28,
   "id": "f61898ba",
   "metadata": {},
   "outputs": [
    {
     "data": {
      "text/plain": [
       "np.int64(0)"
      ]
     },
     "execution_count": 28,
     "metadata": {},
     "output_type": "execute_result"
    }
   ],
   "source": [
    "df['rating'].isnull().sum()"
   ]
  },
  {
   "cell_type": "markdown",
   "id": "aa089a37",
   "metadata": {},
   "source": [
    "### Column 'duration'"
   ]
  },
  {
   "cell_type": "code",
   "execution_count": 29,
   "id": "cb20f105",
   "metadata": {},
   "outputs": [
    {
     "data": {
      "text/plain": [
       "np.int64(3)"
      ]
     },
     "execution_count": 29,
     "metadata": {},
     "output_type": "execute_result"
    }
   ],
   "source": [
    "df['duration'].isnull().sum()"
   ]
  },
  {
   "cell_type": "code",
   "execution_count": 30,
   "id": "d2f2fd9e",
   "metadata": {},
   "outputs": [
    {
     "data": {
      "text/plain": [
       "duration\n",
       "94 min      140\n",
       "1 Season    137\n",
       "97 min      136\n",
       "93 min      135\n",
       "95 min      129\n",
       "           ... \n",
       "228 min       1\n",
       "18 min        1\n",
       "205 min       1\n",
       "201 min       1\n",
       "191 min       1\n",
       "Name: count, Length: 205, dtype: int64"
      ]
     },
     "execution_count": 30,
     "metadata": {},
     "output_type": "execute_result"
    }
   ],
   "source": [
    "df['duration'].value_counts()"
   ]
  },
  {
   "cell_type": "code",
   "execution_count": 31,
   "id": "d8a6853a",
   "metadata": {},
   "outputs": [
    {
     "data": {
      "text/html": [
       "<div>\n",
       "<style scoped>\n",
       "    .dataframe tbody tr th:only-of-type {\n",
       "        vertical-align: middle;\n",
       "    }\n",
       "\n",
       "    .dataframe tbody tr th {\n",
       "        vertical-align: top;\n",
       "    }\n",
       "\n",
       "    .dataframe thead th {\n",
       "        text-align: right;\n",
       "    }\n",
       "</style>\n",
       "<table border=\"1\" class=\"dataframe\">\n",
       "  <thead>\n",
       "    <tr style=\"text-align: right;\">\n",
       "      <th></th>\n",
       "      <th>title</th>\n",
       "      <th>type</th>\n",
       "      <th>duration</th>\n",
       "    </tr>\n",
       "  </thead>\n",
       "  <tbody>\n",
       "    <tr>\n",
       "      <th>5541</th>\n",
       "      <td>Louis C.K. 2017</td>\n",
       "      <td>Movie</td>\n",
       "      <td>NaN</td>\n",
       "    </tr>\n",
       "    <tr>\n",
       "      <th>5794</th>\n",
       "      <td>Louis C.K.: Hilarious</td>\n",
       "      <td>Movie</td>\n",
       "      <td>NaN</td>\n",
       "    </tr>\n",
       "    <tr>\n",
       "      <th>5813</th>\n",
       "      <td>Louis C.K.: Live at the Comedy Store</td>\n",
       "      <td>Movie</td>\n",
       "      <td>NaN</td>\n",
       "    </tr>\n",
       "  </tbody>\n",
       "</table>\n",
       "</div>"
      ],
      "text/plain": [
       "                                     title   type duration\n",
       "5541                       Louis C.K. 2017  Movie      NaN\n",
       "5794                 Louis C.K.: Hilarious  Movie      NaN\n",
       "5813  Louis C.K.: Live at the Comedy Store  Movie      NaN"
      ]
     },
     "execution_count": 31,
     "metadata": {},
     "output_type": "execute_result"
    }
   ],
   "source": [
    "df[df['duration'].isnull()][['title', 'type', 'duration']]\n"
   ]
  },
  {
   "cell_type": "code",
   "execution_count": 32,
   "id": "1ff92c10",
   "metadata": {},
   "outputs": [],
   "source": [
    "df['duration'].fillna(df['duration'].mode()[0],inplace=True)"
   ]
  },
  {
   "cell_type": "markdown",
   "id": "9dccf77c",
   "metadata": {},
   "source": [
    "### Column 'listed_in'"
   ]
  },
  {
   "cell_type": "code",
   "execution_count": 33,
   "id": "5b603124",
   "metadata": {},
   "outputs": [
    {
     "data": {
      "text/plain": [
       "listed_in\n",
       "Dramas, International Movies                             361\n",
       "Stand-Up Comedy                                          309\n",
       "Comedies, Dramas, International Movies                   271\n",
       "Dramas, Independent Movies, International Movies         252\n",
       "Children & Family Movies, Comedies                       193\n",
       "                                                        ... \n",
       "Action & Adventure, Romantic Movies, Sci-Fi & Fantasy      1\n",
       "British TV Shows, Classic & Cult TV, TV Comedies           1\n",
       "Action & Adventure, Comedies, Horror Movies                1\n",
       "Action & Adventure, Documentaries, Sports Movies           1\n",
       "Cult Movies, Dramas, Thrillers                             1\n",
       "Name: count, Length: 346, dtype: int64"
      ]
     },
     "execution_count": 33,
     "metadata": {},
     "output_type": "execute_result"
    }
   ],
   "source": [
    "df['listed_in'].isnull().sum()\n",
    "df['listed_in'].value_counts()"
   ]
  },
  {
   "cell_type": "markdown",
   "id": "729b4661",
   "metadata": {},
   "source": [
    "### Column 'description'"
   ]
  },
  {
   "cell_type": "code",
   "execution_count": 34,
   "id": "bfab58a4",
   "metadata": {},
   "outputs": [
    {
     "data": {
      "text/plain": [
       "np.int64(0)"
      ]
     },
     "execution_count": 34,
     "metadata": {},
     "output_type": "execute_result"
    }
   ],
   "source": [
    "df['description'].isnull().sum()"
   ]
  },
  {
   "cell_type": "code",
   "execution_count": 35,
   "id": "37fcc6d2",
   "metadata": {},
   "outputs": [
    {
     "data": {
      "text/plain": [
       "description\n",
       "Paranormal activity at a lush, abandoned property alarms a group eager to redevelop the site, but the eerie events may not be as unearthly as they think.    4\n",
       "A surly septuagenarian gets another chance at her 20s after having her photo snapped at a studio that magically takes 50 years off her life.                 3\n",
       "With their biggest foe seemingly defeated, InuYasha and his friends return to everyday life. But the peace is soon shattered by an emerging new enemy.       2\n",
       "On India's Independence Day, a zany mishap in a Mumbai chawl disrupts a young love story while compelling the residents to unite in aid of a little boy.     2\n",
       "A scheming matriarch plots to cut off her disabled stepson and his wife from the family fortune, creating a division within the clan.                        2\n",
       "                                                                                                                                                            ..\n",
       "Recovering alcoholic Talal wakes up inside a small-town police station cell, where he's subject to the mind games of a psychotic sadist.                     1\n",
       "A political cartoonist, a crime reporter and a pair of cops investigate San Francisco's infamous Zodiac Killer in this thriller based on a true story.       1\n",
       "Looking to survive in a world taken over by zombies, a dorky college student teams with an urban roughneck and a pair of grifter sisters.                    1\n",
       "Dragged from civilian life, a former superhero must train a new crop of youthful saviors when the military preps for an attack by a familiar villain.        1\n",
       "This four-part anthology of short horror films features stories that include some traditional themes but all are shown from a female point of view.          1\n",
       "Name: count, Length: 5677, dtype: int64"
      ]
     },
     "execution_count": 35,
     "metadata": {},
     "output_type": "execute_result"
    }
   ],
   "source": [
    "df['description'].value_counts()"
   ]
  },
  {
   "cell_type": "markdown",
   "id": "7af1b6ed",
   "metadata": {},
   "source": [
    "## 5. Final dataset check"
   ]
  },
  {
   "cell_type": "code",
   "execution_count": 36,
   "id": "06bc89c6",
   "metadata": {},
   "outputs": [
    {
     "name": "stdout",
     "output_type": "stream",
     "text": [
      "<class 'pandas.core.frame.DataFrame'>\n",
      "Index: 5700 entries, 2 to 8806\n",
      "Data columns (total 12 columns):\n",
      " #   Column        Non-Null Count  Dtype         \n",
      "---  ------        --------------  -----         \n",
      " 0   show_id       5700 non-null   object        \n",
      " 1   type          5700 non-null   object        \n",
      " 2   title         5700 non-null   object        \n",
      " 3   director      5700 non-null   object        \n",
      " 4   cast          5700 non-null   object        \n",
      " 5   country       5700 non-null   object        \n",
      " 6   date_added    5700 non-null   datetime64[ns]\n",
      " 7   release_year  5700 non-null   int64         \n",
      " 8   rating        5700 non-null   object        \n",
      " 9   duration      5700 non-null   object        \n",
      " 10  listed_in     5700 non-null   object        \n",
      " 11  description   5700 non-null   object        \n",
      "dtypes: datetime64[ns](1), int64(1), object(10)\n",
      "memory usage: 578.9+ KB\n"
     ]
    }
   ],
   "source": [
    "df.info()"
   ]
  },
  {
   "cell_type": "code",
   "execution_count": 37,
   "id": "601b983f",
   "metadata": {},
   "outputs": [
    {
     "data": {
      "text/plain": [
       "np.int64(0)"
      ]
     },
     "execution_count": 37,
     "metadata": {},
     "output_type": "execute_result"
    }
   ],
   "source": [
    "df.duplicated().sum()"
   ]
  },
  {
   "cell_type": "code",
   "execution_count": 38,
   "id": "5dd691a9",
   "metadata": {},
   "outputs": [
    {
     "data": {
      "text/plain": [
       "(5700, 12)"
      ]
     },
     "execution_count": 38,
     "metadata": {},
     "output_type": "execute_result"
    }
   ],
   "source": [
    "df.shape"
   ]
  },
  {
   "cell_type": "code",
   "execution_count": 39,
   "id": "285c5d9c",
   "metadata": {},
   "outputs": [
    {
     "data": {
      "text/html": [
       "<div>\n",
       "<style scoped>\n",
       "    .dataframe tbody tr th:only-of-type {\n",
       "        vertical-align: middle;\n",
       "    }\n",
       "\n",
       "    .dataframe tbody tr th {\n",
       "        vertical-align: top;\n",
       "    }\n",
       "\n",
       "    .dataframe thead th {\n",
       "        text-align: right;\n",
       "    }\n",
       "</style>\n",
       "<table border=\"1\" class=\"dataframe\">\n",
       "  <thead>\n",
       "    <tr style=\"text-align: right;\">\n",
       "      <th></th>\n",
       "      <th>date_added</th>\n",
       "      <th>release_year</th>\n",
       "    </tr>\n",
       "  </thead>\n",
       "  <tbody>\n",
       "    <tr>\n",
       "      <th>count</th>\n",
       "      <td>5700</td>\n",
       "      <td>5700.000000</td>\n",
       "    </tr>\n",
       "    <tr>\n",
       "      <th>mean</th>\n",
       "      <td>2019-05-28 02:41:56.210526208</td>\n",
       "      <td>2012.979474</td>\n",
       "    </tr>\n",
       "    <tr>\n",
       "      <th>min</th>\n",
       "      <td>2008-01-01 00:00:00</td>\n",
       "      <td>1942.000000</td>\n",
       "    </tr>\n",
       "    <tr>\n",
       "      <th>25%</th>\n",
       "      <td>2018-05-04 00:00:00</td>\n",
       "      <td>2012.000000</td>\n",
       "    </tr>\n",
       "    <tr>\n",
       "      <th>50%</th>\n",
       "      <td>2019-07-21 12:00:00</td>\n",
       "      <td>2016.000000</td>\n",
       "    </tr>\n",
       "    <tr>\n",
       "      <th>75%</th>\n",
       "      <td>2020-08-13 00:00:00</td>\n",
       "      <td>2018.000000</td>\n",
       "    </tr>\n",
       "    <tr>\n",
       "      <th>max</th>\n",
       "      <td>2021-09-24 00:00:00</td>\n",
       "      <td>2021.000000</td>\n",
       "    </tr>\n",
       "    <tr>\n",
       "      <th>std</th>\n",
       "      <td>NaN</td>\n",
       "      <td>9.562133</td>\n",
       "    </tr>\n",
       "  </tbody>\n",
       "</table>\n",
       "</div>"
      ],
      "text/plain": [
       "                          date_added  release_year\n",
       "count                           5700   5700.000000\n",
       "mean   2019-05-28 02:41:56.210526208   2012.979474\n",
       "min              2008-01-01 00:00:00   1942.000000\n",
       "25%              2018-05-04 00:00:00   2012.000000\n",
       "50%              2019-07-21 12:00:00   2016.000000\n",
       "75%              2020-08-13 00:00:00   2018.000000\n",
       "max              2021-09-24 00:00:00   2021.000000\n",
       "std                              NaN      9.562133"
      ]
     },
     "execution_count": 39,
     "metadata": {},
     "output_type": "execute_result"
    }
   ],
   "source": [
    "df.describe()"
   ]
  },
  {
   "cell_type": "code",
   "execution_count": 40,
   "id": "0886107a",
   "metadata": {},
   "outputs": [
    {
     "data": {
      "text/plain": [
       "show_id         0\n",
       "type            0\n",
       "title           0\n",
       "director        0\n",
       "cast            0\n",
       "country         0\n",
       "date_added      0\n",
       "release_year    0\n",
       "rating          0\n",
       "duration        0\n",
       "listed_in       0\n",
       "description     0\n",
       "dtype: int64"
      ]
     },
     "execution_count": 40,
     "metadata": {},
     "output_type": "execute_result"
    }
   ],
   "source": [
    "df.isnull().sum()"
   ]
  },
  {
   "cell_type": "code",
   "execution_count": 41,
   "id": "9d69e08b",
   "metadata": {},
   "outputs": [
    {
     "data": {
      "text/html": [
       "<div>\n",
       "<style scoped>\n",
       "    .dataframe tbody tr th:only-of-type {\n",
       "        vertical-align: middle;\n",
       "    }\n",
       "\n",
       "    .dataframe tbody tr th {\n",
       "        vertical-align: top;\n",
       "    }\n",
       "\n",
       "    .dataframe thead th {\n",
       "        text-align: right;\n",
       "    }\n",
       "</style>\n",
       "<table border=\"1\" class=\"dataframe\">\n",
       "  <thead>\n",
       "    <tr style=\"text-align: right;\">\n",
       "      <th></th>\n",
       "      <th>show_id</th>\n",
       "      <th>type</th>\n",
       "      <th>title</th>\n",
       "      <th>director</th>\n",
       "      <th>cast</th>\n",
       "      <th>country</th>\n",
       "      <th>date_added</th>\n",
       "      <th>release_year</th>\n",
       "      <th>rating</th>\n",
       "      <th>duration</th>\n",
       "      <th>listed_in</th>\n",
       "      <th>description</th>\n",
       "    </tr>\n",
       "  </thead>\n",
       "  <tbody>\n",
       "    <tr>\n",
       "      <th>6569</th>\n",
       "      <td>s6570</td>\n",
       "      <td>Movie</td>\n",
       "      <td>Darra</td>\n",
       "      <td>Parveen Kumar</td>\n",
       "      <td>Gurpreet Ghuggi, Happy Raikoti, Kartar Cheema,...</td>\n",
       "      <td>India</td>\n",
       "      <td>2017-10-15</td>\n",
       "      <td>2016</td>\n",
       "      <td>TV-14</td>\n",
       "      <td>121 min</td>\n",
       "      <td>Dramas, International Movies</td>\n",
       "      <td>After returning from school and getting marrie...</td>\n",
       "    </tr>\n",
       "    <tr>\n",
       "      <th>3922</th>\n",
       "      <td>s3923</td>\n",
       "      <td>Movie</td>\n",
       "      <td>Dabbe 5: Zehr-i Cin</td>\n",
       "      <td>Hasan Karacadağ</td>\n",
       "      <td>Nil Günal, Ümit Bülent Dinçer, Sultan Köroğlu ...</td>\n",
       "      <td>Turkey</td>\n",
       "      <td>2019-04-12</td>\n",
       "      <td>2014</td>\n",
       "      <td>TV-MA</td>\n",
       "      <td>133 min</td>\n",
       "      <td>Horror Movies, International Movies</td>\n",
       "      <td>When Dilek becomes haunted by evil spirits and...</td>\n",
       "    </tr>\n",
       "    <tr>\n",
       "      <th>4049</th>\n",
       "      <td>s4050</td>\n",
       "      <td>Movie</td>\n",
       "      <td>Sarkar</td>\n",
       "      <td>A.R. Murugadoss</td>\n",
       "      <td>Vijay, Varalakshmi Sarathkumar, Keerthi Suresh...</td>\n",
       "      <td>United States</td>\n",
       "      <td>2019-03-02</td>\n",
       "      <td>2018</td>\n",
       "      <td>TV-MA</td>\n",
       "      <td>162 min</td>\n",
       "      <td>Action &amp; Adventure, Dramas, International Movies</td>\n",
       "      <td>A ruthless businessman’s mission to expose ele...</td>\n",
       "    </tr>\n",
       "    <tr>\n",
       "      <th>135</th>\n",
       "      <td>s136</td>\n",
       "      <td>Movie</td>\n",
       "      <td>Cliffhanger</td>\n",
       "      <td>Renny Harlin</td>\n",
       "      <td>Sylvester Stallone, John Lithgow, Michael Rook...</td>\n",
       "      <td>United States, Italy, France, Japan</td>\n",
       "      <td>2021-09-01</td>\n",
       "      <td>1993</td>\n",
       "      <td>R</td>\n",
       "      <td>113 min</td>\n",
       "      <td>Action &amp; Adventure</td>\n",
       "      <td>Ranger Gabe Walker and his partner are called ...</td>\n",
       "    </tr>\n",
       "    <tr>\n",
       "      <th>8301</th>\n",
       "      <td>s8302</td>\n",
       "      <td>Movie</td>\n",
       "      <td>The First Wives Club</td>\n",
       "      <td>Hugh WIlson</td>\n",
       "      <td>Bette Midler, Goldie Hawn, Diane Keaton, Maggi...</td>\n",
       "      <td>United States</td>\n",
       "      <td>2019-11-20</td>\n",
       "      <td>1996</td>\n",
       "      <td>PG</td>\n",
       "      <td>103 min</td>\n",
       "      <td>Comedies</td>\n",
       "      <td>Following a friend's suicide after her husband...</td>\n",
       "    </tr>\n",
       "    <tr>\n",
       "      <th>6801</th>\n",
       "      <td>s6802</td>\n",
       "      <td>Movie</td>\n",
       "      <td>French Dirty</td>\n",
       "      <td>Wade Allain-Marcus, Jesse Allain-Marcus</td>\n",
       "      <td>Wade Allain-Marcus, Arjun Gupta, Melina Lizett...</td>\n",
       "      <td>United States</td>\n",
       "      <td>2016-02-04</td>\n",
       "      <td>2015</td>\n",
       "      <td>TV-MA</td>\n",
       "      <td>72 min</td>\n",
       "      <td>Dramas, Independent Movies</td>\n",
       "      <td>An aimless, unemployed millennial hangs out wi...</td>\n",
       "    </tr>\n",
       "    <tr>\n",
       "      <th>4854</th>\n",
       "      <td>s4855</td>\n",
       "      <td>Movie</td>\n",
       "      <td>Tig Notaro Happy To Be Here</td>\n",
       "      <td>Tig Notaro</td>\n",
       "      <td>Tig Notaro</td>\n",
       "      <td>United States</td>\n",
       "      <td>2018-05-22</td>\n",
       "      <td>2018</td>\n",
       "      <td>TV-14</td>\n",
       "      <td>58 min</td>\n",
       "      <td>Stand-Up Comedy</td>\n",
       "      <td>Comedian Tig Notaro unleashes her inner pranks...</td>\n",
       "    </tr>\n",
       "    <tr>\n",
       "      <th>7086</th>\n",
       "      <td>s7087</td>\n",
       "      <td>Movie</td>\n",
       "      <td>Internet Famous</td>\n",
       "      <td>Michael Gallagher</td>\n",
       "      <td>Shane Dawson, Steve Greene, Amanda Cerny, Chri...</td>\n",
       "      <td>United States</td>\n",
       "      <td>2016-07-21</td>\n",
       "      <td>2016</td>\n",
       "      <td>TV-14</td>\n",
       "      <td>87 min</td>\n",
       "      <td>Comedies</td>\n",
       "      <td>Five viral Internet celebrities travel to a co...</td>\n",
       "    </tr>\n",
       "    <tr>\n",
       "      <th>2557</th>\n",
       "      <td>s2558</td>\n",
       "      <td>TV Show</td>\n",
       "      <td>Scissor Seven</td>\n",
       "      <td>He Xiaofeng</td>\n",
       "      <td>He Xiaofeng, Jiang Guangtao, Duan Yixuan, Zhu ...</td>\n",
       "      <td>China</td>\n",
       "      <td>2020-05-07</td>\n",
       "      <td>2020</td>\n",
       "      <td>TV-MA</td>\n",
       "      <td>2 Seasons</td>\n",
       "      <td>International TV Shows, TV Action &amp; Adventure,...</td>\n",
       "      <td>Seeking to recover his memory, a scissor-wield...</td>\n",
       "    </tr>\n",
       "    <tr>\n",
       "      <th>8259</th>\n",
       "      <td>s8260</td>\n",
       "      <td>Movie</td>\n",
       "      <td>The Crow</td>\n",
       "      <td>Alex Proyas</td>\n",
       "      <td>Brandon Lee, Rochelle Davis, Ernie Hudson, Mic...</td>\n",
       "      <td>United States</td>\n",
       "      <td>2019-01-01</td>\n",
       "      <td>1994</td>\n",
       "      <td>R</td>\n",
       "      <td>102 min</td>\n",
       "      <td>Action &amp; Adventure, Cult Movies, Sci-Fi &amp; Fantasy</td>\n",
       "      <td>One year after Eric Draven and his fiancée are...</td>\n",
       "    </tr>\n",
       "  </tbody>\n",
       "</table>\n",
       "</div>"
      ],
      "text/plain": [
       "     show_id     type                        title  \\\n",
       "6569   s6570    Movie                        Darra   \n",
       "3922   s3923    Movie          Dabbe 5: Zehr-i Cin   \n",
       "4049   s4050    Movie                       Sarkar   \n",
       "135     s136    Movie                  Cliffhanger   \n",
       "8301   s8302    Movie         The First Wives Club   \n",
       "6801   s6802    Movie                 French Dirty   \n",
       "4854   s4855    Movie  Tig Notaro Happy To Be Here   \n",
       "7086   s7087    Movie              Internet Famous   \n",
       "2557   s2558  TV Show                Scissor Seven   \n",
       "8259   s8260    Movie                     The Crow   \n",
       "\n",
       "                                     director  \\\n",
       "6569                            Parveen Kumar   \n",
       "3922                          Hasan Karacadağ   \n",
       "4049                          A.R. Murugadoss   \n",
       "135                              Renny Harlin   \n",
       "8301                              Hugh WIlson   \n",
       "6801  Wade Allain-Marcus, Jesse Allain-Marcus   \n",
       "4854                               Tig Notaro   \n",
       "7086                        Michael Gallagher   \n",
       "2557                              He Xiaofeng   \n",
       "8259                              Alex Proyas   \n",
       "\n",
       "                                                   cast  \\\n",
       "6569  Gurpreet Ghuggi, Happy Raikoti, Kartar Cheema,...   \n",
       "3922  Nil Günal, Ümit Bülent Dinçer, Sultan Köroğlu ...   \n",
       "4049  Vijay, Varalakshmi Sarathkumar, Keerthi Suresh...   \n",
       "135   Sylvester Stallone, John Lithgow, Michael Rook...   \n",
       "8301  Bette Midler, Goldie Hawn, Diane Keaton, Maggi...   \n",
       "6801  Wade Allain-Marcus, Arjun Gupta, Melina Lizett...   \n",
       "4854                                         Tig Notaro   \n",
       "7086  Shane Dawson, Steve Greene, Amanda Cerny, Chri...   \n",
       "2557  He Xiaofeng, Jiang Guangtao, Duan Yixuan, Zhu ...   \n",
       "8259  Brandon Lee, Rochelle Davis, Ernie Hudson, Mic...   \n",
       "\n",
       "                                  country date_added  release_year rating  \\\n",
       "6569                                India 2017-10-15          2016  TV-14   \n",
       "3922                               Turkey 2019-04-12          2014  TV-MA   \n",
       "4049                        United States 2019-03-02          2018  TV-MA   \n",
       "135   United States, Italy, France, Japan 2021-09-01          1993      R   \n",
       "8301                        United States 2019-11-20          1996     PG   \n",
       "6801                        United States 2016-02-04          2015  TV-MA   \n",
       "4854                        United States 2018-05-22          2018  TV-14   \n",
       "7086                        United States 2016-07-21          2016  TV-14   \n",
       "2557                                China 2020-05-07          2020  TV-MA   \n",
       "8259                        United States 2019-01-01          1994      R   \n",
       "\n",
       "       duration                                          listed_in  \\\n",
       "6569    121 min                       Dramas, International Movies   \n",
       "3922    133 min                Horror Movies, International Movies   \n",
       "4049    162 min   Action & Adventure, Dramas, International Movies   \n",
       "135     113 min                                 Action & Adventure   \n",
       "8301    103 min                                           Comedies   \n",
       "6801     72 min                         Dramas, Independent Movies   \n",
       "4854     58 min                                    Stand-Up Comedy   \n",
       "7086     87 min                                           Comedies   \n",
       "2557  2 Seasons  International TV Shows, TV Action & Adventure,...   \n",
       "8259    102 min  Action & Adventure, Cult Movies, Sci-Fi & Fantasy   \n",
       "\n",
       "                                            description  \n",
       "6569  After returning from school and getting marrie...  \n",
       "3922  When Dilek becomes haunted by evil spirits and...  \n",
       "4049  A ruthless businessman’s mission to expose ele...  \n",
       "135   Ranger Gabe Walker and his partner are called ...  \n",
       "8301  Following a friend's suicide after her husband...  \n",
       "6801  An aimless, unemployed millennial hangs out wi...  \n",
       "4854  Comedian Tig Notaro unleashes her inner pranks...  \n",
       "7086  Five viral Internet celebrities travel to a co...  \n",
       "2557  Seeking to recover his memory, a scissor-wield...  \n",
       "8259  One year after Eric Draven and his fiancée are...  "
      ]
     },
     "execution_count": 41,
     "metadata": {},
     "output_type": "execute_result"
    }
   ],
   "source": [
    "df.sample(10)"
   ]
  },
  {
   "cell_type": "markdown",
   "id": "16d09b2d",
   "metadata": {},
   "source": [
    "> ### ✅ Now data is clean from missing and duplicate values."
   ]
  },
  {
   "cell_type": "markdown",
   "id": "0339ea69",
   "metadata": {},
   "source": [
    "## 6. Save the Cleaned Dataset"
   ]
  },
  {
   "cell_type": "code",
   "execution_count": 42,
   "id": "5ec2ca0e",
   "metadata": {},
   "outputs": [],
   "source": [
    "df.to_csv('Netflix.csv')"
   ]
  }
 ],
 "metadata": {
  "kernelspec": {
   "display_name": "EDA",
   "language": "python",
   "name": "python3"
  },
  "language_info": {
   "codemirror_mode": {
    "name": "ipython",
    "version": 3
   },
   "file_extension": ".py",
   "mimetype": "text/x-python",
   "name": "python",
   "nbconvert_exporter": "python",
   "pygments_lexer": "ipython3",
   "version": "3.13.2"
  }
 },
 "nbformat": 4,
 "nbformat_minor": 5
}
