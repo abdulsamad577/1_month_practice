{
 "cells": [
  {
   "cell_type": "code",
   "execution_count": 1,
   "id": "13c3bb11",
   "metadata": {},
   "outputs": [],
   "source": [
    "import pandas as pd\n",
    "import seaborn as sns\n",
    "import matplotlib.pyplot as plt\n",
    "import numpy as np\n",
    "import plotly.express as px\n"
   ]
  },
  {
   "cell_type": "code",
   "execution_count": 2,
   "id": "701ef4fb",
   "metadata": {},
   "outputs": [
    {
     "data": {
      "text/html": [
       "<div>\n",
       "<style scoped>\n",
       "    .dataframe tbody tr th:only-of-type {\n",
       "        vertical-align: middle;\n",
       "    }\n",
       "\n",
       "    .dataframe tbody tr th {\n",
       "        vertical-align: top;\n",
       "    }\n",
       "\n",
       "    .dataframe thead th {\n",
       "        text-align: right;\n",
       "    }\n",
       "</style>\n",
       "<table border=\"1\" class=\"dataframe\">\n",
       "  <thead>\n",
       "    <tr style=\"text-align: right;\">\n",
       "      <th></th>\n",
       "      <th>carat</th>\n",
       "      <th>cut</th>\n",
       "      <th>color</th>\n",
       "      <th>clarity</th>\n",
       "      <th>depth</th>\n",
       "      <th>table</th>\n",
       "      <th>price</th>\n",
       "      <th>x</th>\n",
       "      <th>y</th>\n",
       "      <th>z</th>\n",
       "    </tr>\n",
       "  </thead>\n",
       "  <tbody>\n",
       "    <tr>\n",
       "      <th>0</th>\n",
       "      <td>0.23</td>\n",
       "      <td>Ideal</td>\n",
       "      <td>E</td>\n",
       "      <td>SI2</td>\n",
       "      <td>61.5</td>\n",
       "      <td>55.0</td>\n",
       "      <td>326</td>\n",
       "      <td>3.95</td>\n",
       "      <td>3.98</td>\n",
       "      <td>2.43</td>\n",
       "    </tr>\n",
       "    <tr>\n",
       "      <th>1</th>\n",
       "      <td>0.21</td>\n",
       "      <td>Premium</td>\n",
       "      <td>E</td>\n",
       "      <td>SI1</td>\n",
       "      <td>59.8</td>\n",
       "      <td>61.0</td>\n",
       "      <td>326</td>\n",
       "      <td>3.89</td>\n",
       "      <td>3.84</td>\n",
       "      <td>2.31</td>\n",
       "    </tr>\n",
       "    <tr>\n",
       "      <th>2</th>\n",
       "      <td>0.23</td>\n",
       "      <td>Good</td>\n",
       "      <td>E</td>\n",
       "      <td>VS1</td>\n",
       "      <td>56.9</td>\n",
       "      <td>65.0</td>\n",
       "      <td>327</td>\n",
       "      <td>4.05</td>\n",
       "      <td>4.07</td>\n",
       "      <td>2.31</td>\n",
       "    </tr>\n",
       "    <tr>\n",
       "      <th>3</th>\n",
       "      <td>0.29</td>\n",
       "      <td>Premium</td>\n",
       "      <td>I</td>\n",
       "      <td>VS2</td>\n",
       "      <td>62.4</td>\n",
       "      <td>58.0</td>\n",
       "      <td>334</td>\n",
       "      <td>4.20</td>\n",
       "      <td>4.23</td>\n",
       "      <td>2.63</td>\n",
       "    </tr>\n",
       "    <tr>\n",
       "      <th>4</th>\n",
       "      <td>0.31</td>\n",
       "      <td>Good</td>\n",
       "      <td>J</td>\n",
       "      <td>SI2</td>\n",
       "      <td>63.3</td>\n",
       "      <td>58.0</td>\n",
       "      <td>335</td>\n",
       "      <td>4.34</td>\n",
       "      <td>4.35</td>\n",
       "      <td>2.75</td>\n",
       "    </tr>\n",
       "  </tbody>\n",
       "</table>\n",
       "</div>"
      ],
      "text/plain": [
       "   carat      cut color clarity  depth  table  price     x     y     z\n",
       "0   0.23    Ideal     E     SI2   61.5   55.0    326  3.95  3.98  2.43\n",
       "1   0.21  Premium     E     SI1   59.8   61.0    326  3.89  3.84  2.31\n",
       "2   0.23     Good     E     VS1   56.9   65.0    327  4.05  4.07  2.31\n",
       "3   0.29  Premium     I     VS2   62.4   58.0    334  4.20  4.23  2.63\n",
       "4   0.31     Good     J     SI2   63.3   58.0    335  4.34  4.35  2.75"
      ]
     },
     "execution_count": 2,
     "metadata": {},
     "output_type": "execute_result"
    }
   ],
   "source": [
    "df=sns.load_dataset('diamonds')\n",
    "df.head()"
   ]
  },
  {
   "cell_type": "code",
   "execution_count": 3,
   "id": "b6e079a2",
   "metadata": {},
   "outputs": [
    {
     "data": {
      "application/vnd.plotly.v1+json": {
       "config": {
        "plotlyServerURL": "https://plot.ly"
       },
       "data": [
        {
         "hovertemplate": "variable=count<br>clarity=%{x}<br>value=%{y}<extra></extra>",
         "legendgroup": "count",
         "line": {
          "color": "#636efa",
          "dash": "solid"
         },
         "marker": {
          "symbol": "circle"
         },
         "mode": "lines",
         "name": "count",
         "orientation": "v",
         "showlegend": true,
         "type": "scatter",
         "x": [
          "SI1",
          "VS2",
          "SI2",
          "VS1",
          "VVS2",
          "VVS1",
          "IF",
          "I1"
         ],
         "xaxis": "x",
         "y": {
          "bdata": "CTPiL+oj6x/KE0cO/gblAg==",
          "dtype": "i2"
         },
         "yaxis": "y"
        }
       ],
       "layout": {
        "legend": {
         "title": {
          "text": "variable"
         },
         "tracegroupgap": 0
        },
        "margin": {
         "t": 60
        },
        "template": {
         "data": {
          "bar": [
           {
            "error_x": {
             "color": "#2a3f5f"
            },
            "error_y": {
             "color": "#2a3f5f"
            },
            "marker": {
             "line": {
              "color": "#E5ECF6",
              "width": 0.5
             },
             "pattern": {
              "fillmode": "overlay",
              "size": 10,
              "solidity": 0.2
             }
            },
            "type": "bar"
           }
          ],
          "barpolar": [
           {
            "marker": {
             "line": {
              "color": "#E5ECF6",
              "width": 0.5
             },
             "pattern": {
              "fillmode": "overlay",
              "size": 10,
              "solidity": 0.2
             }
            },
            "type": "barpolar"
           }
          ],
          "carpet": [
           {
            "aaxis": {
             "endlinecolor": "#2a3f5f",
             "gridcolor": "white",
             "linecolor": "white",
             "minorgridcolor": "white",
             "startlinecolor": "#2a3f5f"
            },
            "baxis": {
             "endlinecolor": "#2a3f5f",
             "gridcolor": "white",
             "linecolor": "white",
             "minorgridcolor": "white",
             "startlinecolor": "#2a3f5f"
            },
            "type": "carpet"
           }
          ],
          "choropleth": [
           {
            "colorbar": {
             "outlinewidth": 0,
             "ticks": ""
            },
            "type": "choropleth"
           }
          ],
          "contour": [
           {
            "colorbar": {
             "outlinewidth": 0,
             "ticks": ""
            },
            "colorscale": [
             [
              0,
              "#0d0887"
             ],
             [
              0.1111111111111111,
              "#46039f"
             ],
             [
              0.2222222222222222,
              "#7201a8"
             ],
             [
              0.3333333333333333,
              "#9c179e"
             ],
             [
              0.4444444444444444,
              "#bd3786"
             ],
             [
              0.5555555555555556,
              "#d8576b"
             ],
             [
              0.6666666666666666,
              "#ed7953"
             ],
             [
              0.7777777777777778,
              "#fb9f3a"
             ],
             [
              0.8888888888888888,
              "#fdca26"
             ],
             [
              1,
              "#f0f921"
             ]
            ],
            "type": "contour"
           }
          ],
          "contourcarpet": [
           {
            "colorbar": {
             "outlinewidth": 0,
             "ticks": ""
            },
            "type": "contourcarpet"
           }
          ],
          "heatmap": [
           {
            "colorbar": {
             "outlinewidth": 0,
             "ticks": ""
            },
            "colorscale": [
             [
              0,
              "#0d0887"
             ],
             [
              0.1111111111111111,
              "#46039f"
             ],
             [
              0.2222222222222222,
              "#7201a8"
             ],
             [
              0.3333333333333333,
              "#9c179e"
             ],
             [
              0.4444444444444444,
              "#bd3786"
             ],
             [
              0.5555555555555556,
              "#d8576b"
             ],
             [
              0.6666666666666666,
              "#ed7953"
             ],
             [
              0.7777777777777778,
              "#fb9f3a"
             ],
             [
              0.8888888888888888,
              "#fdca26"
             ],
             [
              1,
              "#f0f921"
             ]
            ],
            "type": "heatmap"
           }
          ],
          "histogram": [
           {
            "marker": {
             "pattern": {
              "fillmode": "overlay",
              "size": 10,
              "solidity": 0.2
             }
            },
            "type": "histogram"
           }
          ],
          "histogram2d": [
           {
            "colorbar": {
             "outlinewidth": 0,
             "ticks": ""
            },
            "colorscale": [
             [
              0,
              "#0d0887"
             ],
             [
              0.1111111111111111,
              "#46039f"
             ],
             [
              0.2222222222222222,
              "#7201a8"
             ],
             [
              0.3333333333333333,
              "#9c179e"
             ],
             [
              0.4444444444444444,
              "#bd3786"
             ],
             [
              0.5555555555555556,
              "#d8576b"
             ],
             [
              0.6666666666666666,
              "#ed7953"
             ],
             [
              0.7777777777777778,
              "#fb9f3a"
             ],
             [
              0.8888888888888888,
              "#fdca26"
             ],
             [
              1,
              "#f0f921"
             ]
            ],
            "type": "histogram2d"
           }
          ],
          "histogram2dcontour": [
           {
            "colorbar": {
             "outlinewidth": 0,
             "ticks": ""
            },
            "colorscale": [
             [
              0,
              "#0d0887"
             ],
             [
              0.1111111111111111,
              "#46039f"
             ],
             [
              0.2222222222222222,
              "#7201a8"
             ],
             [
              0.3333333333333333,
              "#9c179e"
             ],
             [
              0.4444444444444444,
              "#bd3786"
             ],
             [
              0.5555555555555556,
              "#d8576b"
             ],
             [
              0.6666666666666666,
              "#ed7953"
             ],
             [
              0.7777777777777778,
              "#fb9f3a"
             ],
             [
              0.8888888888888888,
              "#fdca26"
             ],
             [
              1,
              "#f0f921"
             ]
            ],
            "type": "histogram2dcontour"
           }
          ],
          "mesh3d": [
           {
            "colorbar": {
             "outlinewidth": 0,
             "ticks": ""
            },
            "type": "mesh3d"
           }
          ],
          "parcoords": [
           {
            "line": {
             "colorbar": {
              "outlinewidth": 0,
              "ticks": ""
             }
            },
            "type": "parcoords"
           }
          ],
          "pie": [
           {
            "automargin": true,
            "type": "pie"
           }
          ],
          "scatter": [
           {
            "fillpattern": {
             "fillmode": "overlay",
             "size": 10,
             "solidity": 0.2
            },
            "type": "scatter"
           }
          ],
          "scatter3d": [
           {
            "line": {
             "colorbar": {
              "outlinewidth": 0,
              "ticks": ""
             }
            },
            "marker": {
             "colorbar": {
              "outlinewidth": 0,
              "ticks": ""
             }
            },
            "type": "scatter3d"
           }
          ],
          "scattercarpet": [
           {
            "marker": {
             "colorbar": {
              "outlinewidth": 0,
              "ticks": ""
             }
            },
            "type": "scattercarpet"
           }
          ],
          "scattergeo": [
           {
            "marker": {
             "colorbar": {
              "outlinewidth": 0,
              "ticks": ""
             }
            },
            "type": "scattergeo"
           }
          ],
          "scattergl": [
           {
            "marker": {
             "colorbar": {
              "outlinewidth": 0,
              "ticks": ""
             }
            },
            "type": "scattergl"
           }
          ],
          "scattermap": [
           {
            "marker": {
             "colorbar": {
              "outlinewidth": 0,
              "ticks": ""
             }
            },
            "type": "scattermap"
           }
          ],
          "scattermapbox": [
           {
            "marker": {
             "colorbar": {
              "outlinewidth": 0,
              "ticks": ""
             }
            },
            "type": "scattermapbox"
           }
          ],
          "scatterpolar": [
           {
            "marker": {
             "colorbar": {
              "outlinewidth": 0,
              "ticks": ""
             }
            },
            "type": "scatterpolar"
           }
          ],
          "scatterpolargl": [
           {
            "marker": {
             "colorbar": {
              "outlinewidth": 0,
              "ticks": ""
             }
            },
            "type": "scatterpolargl"
           }
          ],
          "scatterternary": [
           {
            "marker": {
             "colorbar": {
              "outlinewidth": 0,
              "ticks": ""
             }
            },
            "type": "scatterternary"
           }
          ],
          "surface": [
           {
            "colorbar": {
             "outlinewidth": 0,
             "ticks": ""
            },
            "colorscale": [
             [
              0,
              "#0d0887"
             ],
             [
              0.1111111111111111,
              "#46039f"
             ],
             [
              0.2222222222222222,
              "#7201a8"
             ],
             [
              0.3333333333333333,
              "#9c179e"
             ],
             [
              0.4444444444444444,
              "#bd3786"
             ],
             [
              0.5555555555555556,
              "#d8576b"
             ],
             [
              0.6666666666666666,
              "#ed7953"
             ],
             [
              0.7777777777777778,
              "#fb9f3a"
             ],
             [
              0.8888888888888888,
              "#fdca26"
             ],
             [
              1,
              "#f0f921"
             ]
            ],
            "type": "surface"
           }
          ],
          "table": [
           {
            "cells": {
             "fill": {
              "color": "#EBF0F8"
             },
             "line": {
              "color": "white"
             }
            },
            "header": {
             "fill": {
              "color": "#C8D4E3"
             },
             "line": {
              "color": "white"
             }
            },
            "type": "table"
           }
          ]
         },
         "layout": {
          "annotationdefaults": {
           "arrowcolor": "#2a3f5f",
           "arrowhead": 0,
           "arrowwidth": 1
          },
          "autotypenumbers": "strict",
          "coloraxis": {
           "colorbar": {
            "outlinewidth": 0,
            "ticks": ""
           }
          },
          "colorscale": {
           "diverging": [
            [
             0,
             "#8e0152"
            ],
            [
             0.1,
             "#c51b7d"
            ],
            [
             0.2,
             "#de77ae"
            ],
            [
             0.3,
             "#f1b6da"
            ],
            [
             0.4,
             "#fde0ef"
            ],
            [
             0.5,
             "#f7f7f7"
            ],
            [
             0.6,
             "#e6f5d0"
            ],
            [
             0.7,
             "#b8e186"
            ],
            [
             0.8,
             "#7fbc41"
            ],
            [
             0.9,
             "#4d9221"
            ],
            [
             1,
             "#276419"
            ]
           ],
           "sequential": [
            [
             0,
             "#0d0887"
            ],
            [
             0.1111111111111111,
             "#46039f"
            ],
            [
             0.2222222222222222,
             "#7201a8"
            ],
            [
             0.3333333333333333,
             "#9c179e"
            ],
            [
             0.4444444444444444,
             "#bd3786"
            ],
            [
             0.5555555555555556,
             "#d8576b"
            ],
            [
             0.6666666666666666,
             "#ed7953"
            ],
            [
             0.7777777777777778,
             "#fb9f3a"
            ],
            [
             0.8888888888888888,
             "#fdca26"
            ],
            [
             1,
             "#f0f921"
            ]
           ],
           "sequentialminus": [
            [
             0,
             "#0d0887"
            ],
            [
             0.1111111111111111,
             "#46039f"
            ],
            [
             0.2222222222222222,
             "#7201a8"
            ],
            [
             0.3333333333333333,
             "#9c179e"
            ],
            [
             0.4444444444444444,
             "#bd3786"
            ],
            [
             0.5555555555555556,
             "#d8576b"
            ],
            [
             0.6666666666666666,
             "#ed7953"
            ],
            [
             0.7777777777777778,
             "#fb9f3a"
            ],
            [
             0.8888888888888888,
             "#fdca26"
            ],
            [
             1,
             "#f0f921"
            ]
           ]
          },
          "colorway": [
           "#636efa",
           "#EF553B",
           "#00cc96",
           "#ab63fa",
           "#FFA15A",
           "#19d3f3",
           "#FF6692",
           "#B6E880",
           "#FF97FF",
           "#FECB52"
          ],
          "font": {
           "color": "#2a3f5f"
          },
          "geo": {
           "bgcolor": "white",
           "lakecolor": "white",
           "landcolor": "#E5ECF6",
           "showlakes": true,
           "showland": true,
           "subunitcolor": "white"
          },
          "hoverlabel": {
           "align": "left"
          },
          "hovermode": "closest",
          "mapbox": {
           "style": "light"
          },
          "paper_bgcolor": "white",
          "plot_bgcolor": "#E5ECF6",
          "polar": {
           "angularaxis": {
            "gridcolor": "white",
            "linecolor": "white",
            "ticks": ""
           },
           "bgcolor": "#E5ECF6",
           "radialaxis": {
            "gridcolor": "white",
            "linecolor": "white",
            "ticks": ""
           }
          },
          "scene": {
           "xaxis": {
            "backgroundcolor": "#E5ECF6",
            "gridcolor": "white",
            "gridwidth": 2,
            "linecolor": "white",
            "showbackground": true,
            "ticks": "",
            "zerolinecolor": "white"
           },
           "yaxis": {
            "backgroundcolor": "#E5ECF6",
            "gridcolor": "white",
            "gridwidth": 2,
            "linecolor": "white",
            "showbackground": true,
            "ticks": "",
            "zerolinecolor": "white"
           },
           "zaxis": {
            "backgroundcolor": "#E5ECF6",
            "gridcolor": "white",
            "gridwidth": 2,
            "linecolor": "white",
            "showbackground": true,
            "ticks": "",
            "zerolinecolor": "white"
           }
          },
          "shapedefaults": {
           "line": {
            "color": "#2a3f5f"
           }
          },
          "ternary": {
           "aaxis": {
            "gridcolor": "white",
            "linecolor": "white",
            "ticks": ""
           },
           "baxis": {
            "gridcolor": "white",
            "linecolor": "white",
            "ticks": ""
           },
           "bgcolor": "#E5ECF6",
           "caxis": {
            "gridcolor": "white",
            "linecolor": "white",
            "ticks": ""
           }
          },
          "title": {
           "x": 0.05
          },
          "xaxis": {
           "automargin": true,
           "gridcolor": "white",
           "linecolor": "white",
           "ticks": "",
           "title": {
            "standoff": 15
           },
           "zerolinecolor": "white",
           "zerolinewidth": 2
          },
          "yaxis": {
           "automargin": true,
           "gridcolor": "white",
           "linecolor": "white",
           "ticks": "",
           "title": {
            "standoff": 15
           },
           "zerolinecolor": "white",
           "zerolinewidth": 2
          }
         }
        },
        "xaxis": {
         "anchor": "y",
         "domain": [
          0,
          1
         ],
         "title": {
          "text": "clarity"
         }
        },
        "yaxis": {
         "anchor": "x",
         "domain": [
          0,
          1
         ],
         "title": {
          "text": "value"
         }
        }
       }
      }
     },
     "metadata": {},
     "output_type": "display_data"
    }
   ],
   "source": [
    "count=df['clarity'].value_counts()\n",
    "px.line(count)"
   ]
  },
  {
   "cell_type": "code",
   "execution_count": 4,
   "id": "e851d98c",
   "metadata": {},
   "outputs": [
    {
     "name": "stderr",
     "output_type": "stream",
     "text": [
      "C:\\Users\\Sami\\AppData\\Local\\Temp\\ipykernel_9020\\2640001759.py:1: FutureWarning:\n",
      "\n",
      "The default of observed=False is deprecated and will be changed to True in a future version of pandas. Pass observed=False to retain current behavior or observed=True to adopt the future default and silence this warning.\n",
      "\n",
      "C:\\Users\\Sami\\AppData\\Local\\Temp\\ipykernel_9020\\2640001759.py:2: FutureWarning:\n",
      "\n",
      "The default of observed=False is deprecated and will be changed to True in a future version of pandas. Pass observed=False to retain current behavior or observed=True to adopt the future default and silence this warning.\n",
      "\n"
     ]
    }
   ],
   "source": [
    "total=df.groupby('cut')['price'].sum()\n",
    "avg=df.groupby('clarity')['price'].sum()"
   ]
  },
  {
   "cell_type": "code",
   "execution_count": 5,
   "id": "748176aa",
   "metadata": {},
   "outputs": [
    {
     "data": {
      "application/vnd.plotly.v1+json": {
       "config": {
        "plotlyServerURL": "https://plot.ly"
       },
       "data": [
        {
         "hovertemplate": "variable=price<br>clarity=%{x}<br>value=%{y}<extra></extra>",
         "legendgroup": "price",
         "line": {
          "color": "#636efa",
          "dash": "solid"
         },
         "marker": {
          "symbol": "circle"
         },
         "mode": "lines",
         "name": "price",
         "orientation": "v",
         "showlegend": true,
         "type": "scatter",
         "x": [
          "IF",
          "VVS1",
          "VVS2",
          "VS1",
          "VS2",
          "SI1",
          "SI2",
          "I1"
         ],
         "xaxis": "x",
         "y": {
          "bdata": "fj9OAGC3jAAU1v0AnrPeAYgj3gKLoBwD7UnGAqFeLAA=",
          "dtype": "i4"
         },
         "yaxis": "y"
        }
       ],
       "layout": {
        "legend": {
         "title": {
          "text": "variable"
         },
         "tracegroupgap": 0
        },
        "margin": {
         "t": 60
        },
        "template": {
         "data": {
          "bar": [
           {
            "error_x": {
             "color": "#2a3f5f"
            },
            "error_y": {
             "color": "#2a3f5f"
            },
            "marker": {
             "line": {
              "color": "#E5ECF6",
              "width": 0.5
             },
             "pattern": {
              "fillmode": "overlay",
              "size": 10,
              "solidity": 0.2
             }
            },
            "type": "bar"
           }
          ],
          "barpolar": [
           {
            "marker": {
             "line": {
              "color": "#E5ECF6",
              "width": 0.5
             },
             "pattern": {
              "fillmode": "overlay",
              "size": 10,
              "solidity": 0.2
             }
            },
            "type": "barpolar"
           }
          ],
          "carpet": [
           {
            "aaxis": {
             "endlinecolor": "#2a3f5f",
             "gridcolor": "white",
             "linecolor": "white",
             "minorgridcolor": "white",
             "startlinecolor": "#2a3f5f"
            },
            "baxis": {
             "endlinecolor": "#2a3f5f",
             "gridcolor": "white",
             "linecolor": "white",
             "minorgridcolor": "white",
             "startlinecolor": "#2a3f5f"
            },
            "type": "carpet"
           }
          ],
          "choropleth": [
           {
            "colorbar": {
             "outlinewidth": 0,
             "ticks": ""
            },
            "type": "choropleth"
           }
          ],
          "contour": [
           {
            "colorbar": {
             "outlinewidth": 0,
             "ticks": ""
            },
            "colorscale": [
             [
              0,
              "#0d0887"
             ],
             [
              0.1111111111111111,
              "#46039f"
             ],
             [
              0.2222222222222222,
              "#7201a8"
             ],
             [
              0.3333333333333333,
              "#9c179e"
             ],
             [
              0.4444444444444444,
              "#bd3786"
             ],
             [
              0.5555555555555556,
              "#d8576b"
             ],
             [
              0.6666666666666666,
              "#ed7953"
             ],
             [
              0.7777777777777778,
              "#fb9f3a"
             ],
             [
              0.8888888888888888,
              "#fdca26"
             ],
             [
              1,
              "#f0f921"
             ]
            ],
            "type": "contour"
           }
          ],
          "contourcarpet": [
           {
            "colorbar": {
             "outlinewidth": 0,
             "ticks": ""
            },
            "type": "contourcarpet"
           }
          ],
          "heatmap": [
           {
            "colorbar": {
             "outlinewidth": 0,
             "ticks": ""
            },
            "colorscale": [
             [
              0,
              "#0d0887"
             ],
             [
              0.1111111111111111,
              "#46039f"
             ],
             [
              0.2222222222222222,
              "#7201a8"
             ],
             [
              0.3333333333333333,
              "#9c179e"
             ],
             [
              0.4444444444444444,
              "#bd3786"
             ],
             [
              0.5555555555555556,
              "#d8576b"
             ],
             [
              0.6666666666666666,
              "#ed7953"
             ],
             [
              0.7777777777777778,
              "#fb9f3a"
             ],
             [
              0.8888888888888888,
              "#fdca26"
             ],
             [
              1,
              "#f0f921"
             ]
            ],
            "type": "heatmap"
           }
          ],
          "histogram": [
           {
            "marker": {
             "pattern": {
              "fillmode": "overlay",
              "size": 10,
              "solidity": 0.2
             }
            },
            "type": "histogram"
           }
          ],
          "histogram2d": [
           {
            "colorbar": {
             "outlinewidth": 0,
             "ticks": ""
            },
            "colorscale": [
             [
              0,
              "#0d0887"
             ],
             [
              0.1111111111111111,
              "#46039f"
             ],
             [
              0.2222222222222222,
              "#7201a8"
             ],
             [
              0.3333333333333333,
              "#9c179e"
             ],
             [
              0.4444444444444444,
              "#bd3786"
             ],
             [
              0.5555555555555556,
              "#d8576b"
             ],
             [
              0.6666666666666666,
              "#ed7953"
             ],
             [
              0.7777777777777778,
              "#fb9f3a"
             ],
             [
              0.8888888888888888,
              "#fdca26"
             ],
             [
              1,
              "#f0f921"
             ]
            ],
            "type": "histogram2d"
           }
          ],
          "histogram2dcontour": [
           {
            "colorbar": {
             "outlinewidth": 0,
             "ticks": ""
            },
            "colorscale": [
             [
              0,
              "#0d0887"
             ],
             [
              0.1111111111111111,
              "#46039f"
             ],
             [
              0.2222222222222222,
              "#7201a8"
             ],
             [
              0.3333333333333333,
              "#9c179e"
             ],
             [
              0.4444444444444444,
              "#bd3786"
             ],
             [
              0.5555555555555556,
              "#d8576b"
             ],
             [
              0.6666666666666666,
              "#ed7953"
             ],
             [
              0.7777777777777778,
              "#fb9f3a"
             ],
             [
              0.8888888888888888,
              "#fdca26"
             ],
             [
              1,
              "#f0f921"
             ]
            ],
            "type": "histogram2dcontour"
           }
          ],
          "mesh3d": [
           {
            "colorbar": {
             "outlinewidth": 0,
             "ticks": ""
            },
            "type": "mesh3d"
           }
          ],
          "parcoords": [
           {
            "line": {
             "colorbar": {
              "outlinewidth": 0,
              "ticks": ""
             }
            },
            "type": "parcoords"
           }
          ],
          "pie": [
           {
            "automargin": true,
            "type": "pie"
           }
          ],
          "scatter": [
           {
            "fillpattern": {
             "fillmode": "overlay",
             "size": 10,
             "solidity": 0.2
            },
            "type": "scatter"
           }
          ],
          "scatter3d": [
           {
            "line": {
             "colorbar": {
              "outlinewidth": 0,
              "ticks": ""
             }
            },
            "marker": {
             "colorbar": {
              "outlinewidth": 0,
              "ticks": ""
             }
            },
            "type": "scatter3d"
           }
          ],
          "scattercarpet": [
           {
            "marker": {
             "colorbar": {
              "outlinewidth": 0,
              "ticks": ""
             }
            },
            "type": "scattercarpet"
           }
          ],
          "scattergeo": [
           {
            "marker": {
             "colorbar": {
              "outlinewidth": 0,
              "ticks": ""
             }
            },
            "type": "scattergeo"
           }
          ],
          "scattergl": [
           {
            "marker": {
             "colorbar": {
              "outlinewidth": 0,
              "ticks": ""
             }
            },
            "type": "scattergl"
           }
          ],
          "scattermap": [
           {
            "marker": {
             "colorbar": {
              "outlinewidth": 0,
              "ticks": ""
             }
            },
            "type": "scattermap"
           }
          ],
          "scattermapbox": [
           {
            "marker": {
             "colorbar": {
              "outlinewidth": 0,
              "ticks": ""
             }
            },
            "type": "scattermapbox"
           }
          ],
          "scatterpolar": [
           {
            "marker": {
             "colorbar": {
              "outlinewidth": 0,
              "ticks": ""
             }
            },
            "type": "scatterpolar"
           }
          ],
          "scatterpolargl": [
           {
            "marker": {
             "colorbar": {
              "outlinewidth": 0,
              "ticks": ""
             }
            },
            "type": "scatterpolargl"
           }
          ],
          "scatterternary": [
           {
            "marker": {
             "colorbar": {
              "outlinewidth": 0,
              "ticks": ""
             }
            },
            "type": "scatterternary"
           }
          ],
          "surface": [
           {
            "colorbar": {
             "outlinewidth": 0,
             "ticks": ""
            },
            "colorscale": [
             [
              0,
              "#0d0887"
             ],
             [
              0.1111111111111111,
              "#46039f"
             ],
             [
              0.2222222222222222,
              "#7201a8"
             ],
             [
              0.3333333333333333,
              "#9c179e"
             ],
             [
              0.4444444444444444,
              "#bd3786"
             ],
             [
              0.5555555555555556,
              "#d8576b"
             ],
             [
              0.6666666666666666,
              "#ed7953"
             ],
             [
              0.7777777777777778,
              "#fb9f3a"
             ],
             [
              0.8888888888888888,
              "#fdca26"
             ],
             [
              1,
              "#f0f921"
             ]
            ],
            "type": "surface"
           }
          ],
          "table": [
           {
            "cells": {
             "fill": {
              "color": "#EBF0F8"
             },
             "line": {
              "color": "white"
             }
            },
            "header": {
             "fill": {
              "color": "#C8D4E3"
             },
             "line": {
              "color": "white"
             }
            },
            "type": "table"
           }
          ]
         },
         "layout": {
          "annotationdefaults": {
           "arrowcolor": "#2a3f5f",
           "arrowhead": 0,
           "arrowwidth": 1
          },
          "autotypenumbers": "strict",
          "coloraxis": {
           "colorbar": {
            "outlinewidth": 0,
            "ticks": ""
           }
          },
          "colorscale": {
           "diverging": [
            [
             0,
             "#8e0152"
            ],
            [
             0.1,
             "#c51b7d"
            ],
            [
             0.2,
             "#de77ae"
            ],
            [
             0.3,
             "#f1b6da"
            ],
            [
             0.4,
             "#fde0ef"
            ],
            [
             0.5,
             "#f7f7f7"
            ],
            [
             0.6,
             "#e6f5d0"
            ],
            [
             0.7,
             "#b8e186"
            ],
            [
             0.8,
             "#7fbc41"
            ],
            [
             0.9,
             "#4d9221"
            ],
            [
             1,
             "#276419"
            ]
           ],
           "sequential": [
            [
             0,
             "#0d0887"
            ],
            [
             0.1111111111111111,
             "#46039f"
            ],
            [
             0.2222222222222222,
             "#7201a8"
            ],
            [
             0.3333333333333333,
             "#9c179e"
            ],
            [
             0.4444444444444444,
             "#bd3786"
            ],
            [
             0.5555555555555556,
             "#d8576b"
            ],
            [
             0.6666666666666666,
             "#ed7953"
            ],
            [
             0.7777777777777778,
             "#fb9f3a"
            ],
            [
             0.8888888888888888,
             "#fdca26"
            ],
            [
             1,
             "#f0f921"
            ]
           ],
           "sequentialminus": [
            [
             0,
             "#0d0887"
            ],
            [
             0.1111111111111111,
             "#46039f"
            ],
            [
             0.2222222222222222,
             "#7201a8"
            ],
            [
             0.3333333333333333,
             "#9c179e"
            ],
            [
             0.4444444444444444,
             "#bd3786"
            ],
            [
             0.5555555555555556,
             "#d8576b"
            ],
            [
             0.6666666666666666,
             "#ed7953"
            ],
            [
             0.7777777777777778,
             "#fb9f3a"
            ],
            [
             0.8888888888888888,
             "#fdca26"
            ],
            [
             1,
             "#f0f921"
            ]
           ]
          },
          "colorway": [
           "#636efa",
           "#EF553B",
           "#00cc96",
           "#ab63fa",
           "#FFA15A",
           "#19d3f3",
           "#FF6692",
           "#B6E880",
           "#FF97FF",
           "#FECB52"
          ],
          "font": {
           "color": "#2a3f5f"
          },
          "geo": {
           "bgcolor": "white",
           "lakecolor": "white",
           "landcolor": "#E5ECF6",
           "showlakes": true,
           "showland": true,
           "subunitcolor": "white"
          },
          "hoverlabel": {
           "align": "left"
          },
          "hovermode": "closest",
          "mapbox": {
           "style": "light"
          },
          "paper_bgcolor": "white",
          "plot_bgcolor": "#E5ECF6",
          "polar": {
           "angularaxis": {
            "gridcolor": "white",
            "linecolor": "white",
            "ticks": ""
           },
           "bgcolor": "#E5ECF6",
           "radialaxis": {
            "gridcolor": "white",
            "linecolor": "white",
            "ticks": ""
           }
          },
          "scene": {
           "xaxis": {
            "backgroundcolor": "#E5ECF6",
            "gridcolor": "white",
            "gridwidth": 2,
            "linecolor": "white",
            "showbackground": true,
            "ticks": "",
            "zerolinecolor": "white"
           },
           "yaxis": {
            "backgroundcolor": "#E5ECF6",
            "gridcolor": "white",
            "gridwidth": 2,
            "linecolor": "white",
            "showbackground": true,
            "ticks": "",
            "zerolinecolor": "white"
           },
           "zaxis": {
            "backgroundcolor": "#E5ECF6",
            "gridcolor": "white",
            "gridwidth": 2,
            "linecolor": "white",
            "showbackground": true,
            "ticks": "",
            "zerolinecolor": "white"
           }
          },
          "shapedefaults": {
           "line": {
            "color": "#2a3f5f"
           }
          },
          "ternary": {
           "aaxis": {
            "gridcolor": "white",
            "linecolor": "white",
            "ticks": ""
           },
           "baxis": {
            "gridcolor": "white",
            "linecolor": "white",
            "ticks": ""
           },
           "bgcolor": "#E5ECF6",
           "caxis": {
            "gridcolor": "white",
            "linecolor": "white",
            "ticks": ""
           }
          },
          "title": {
           "x": 0.05
          },
          "xaxis": {
           "automargin": true,
           "gridcolor": "white",
           "linecolor": "white",
           "ticks": "",
           "title": {
            "standoff": 15
           },
           "zerolinecolor": "white",
           "zerolinewidth": 2
          },
          "yaxis": {
           "automargin": true,
           "gridcolor": "white",
           "linecolor": "white",
           "ticks": "",
           "title": {
            "standoff": 15
           },
           "zerolinecolor": "white",
           "zerolinewidth": 2
          }
         }
        },
        "xaxis": {
         "anchor": "y",
         "domain": [
          0,
          1
         ],
         "title": {
          "text": "clarity"
         }
        },
        "yaxis": {
         "anchor": "x",
         "domain": [
          0,
          1
         ],
         "title": {
          "text": "value"
         }
        }
       }
      }
     },
     "metadata": {},
     "output_type": "display_data"
    }
   ],
   "source": [
    "# px.line(total)\n",
    "fig=px.line(avg)\n",
    "fig.show()\n",
    "fig.write_image('line.png')"
   ]
  },
  {
   "cell_type": "code",
   "execution_count": 9,
   "id": "62d6669c",
   "metadata": {},
   "outputs": [
    {
     "data": {
      "application/vnd.plotly.v1+json": {
       "config": {
        "plotlyServerURL": "https://plot.ly"
       },
       "data": [
        {
         "hovertemplate": "who=man<br>age=%{x}<br>fare=%{y}<extra></extra>",
         "legendgroup": "man",
         "marker": {
          "color": "#636efa",
          "symbol": "circle"
         },
         "mode": "markers",
         "name": "man",
         "orientation": "v",
         "showlegend": true,
         "type": "scatter",
         "x": {
          "bdata": "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",
          "dtype": "f8"
         },
         "xaxis": "x",
         "y": {
          "bdata": "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",
          "dtype": "f8"
         },
         "yaxis": "y"
        },
        {
         "hovertemplate": "who=woman<br>age=%{x}<br>fare=%{y}<extra></extra>",
         "legendgroup": "woman",
         "marker": {
          "color": "#EF553B",
          "symbol": "circle"
         },
         "mode": "markers",
         "name": "woman",
         "orientation": "v",
         "showlegend": true,
         "type": "scatter",
         "x": {
          "bdata": "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",
          "dtype": "f8"
         },
         "xaxis": "x",
         "y": {
          "bdata": "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",
          "dtype": "f8"
         },
         "yaxis": "y"
        },
        {
         "hovertemplate": "who=child<br>age=%{x}<br>fare=%{y}<extra></extra>",
         "legendgroup": "child",
         "marker": {
          "color": "#00cc96",
          "symbol": "circle"
         },
         "mode": "markers",
         "name": "child",
         "orientation": "v",
         "showlegend": true,
         "type": "scatter",
         "x": {
          "bdata": "AAAAAAAAAEAAAAAAAAAsQAAAAAAAABBAAAAAAAAALEAAAAAAAAAAQAAAAAAAAC5AAAAAAAAAIEAAAAAAAAAsQAAAAAAAAAhAAAAAAAAAHEAAAAAAAAAUQAAAAAAAACZAAAAAAAAAEECPwvUoXI/qPwAAAAAAAC1AAAAAAAAAAEAAAAAAAAAoQAAAAAAAACJAAAAAAAAA8D8AAAAAAAAiQAAAAAAAABBAAAAAAAAA8D8AAAAAAAAiQAAAAAAAAPA/AAAAAAAAEEAAAAAAAAAIQAAAAAAAAABAAAAAAAAAFEAAAAAAAAAgQAAAAAAAAAhAAAAAAAAAHEAAAAAAAAAAQHE9CtejcO0/AAAAAAAAAEAAAAAAAAAIQAAAAAAAAC5AAAAAAAAACEAAAAAAAADwPwAAAAAAAPA/AAAAAAAACEAAAAAAAAAkQAAAAAAAACxAAAAAAAAAEEAAAAAAAAAqQAAAAAAAABRAAAAAAAAA6D8AAAAAAAAAQAAAAAAAACJAAAAAAAAAIkAAAAAAAAAAQAAAAAAAABxAAAAAAAAAIkAAAAAAAAAmQAAAAAAAACBAAAAAAAAAEEAAAAAAAAAiQAAAAAAAAABAAAAAAAAA6D8AAAAAAAAsQAAAAAAAACxAAAAAAAAALkAAAAAAAAAQQAAAAAAAABhAAAAAAAAAJkAAAAAAAAAQQAAAAAAAABhAcT0K16Nw5T8AAAAAAAAUQAAAAAAAACpAAAAAAAAAIEAAAAAAAADwPwAAAAAAACZA4XoUrkfh2j8AAAAAAAAYQAAAAAAAACRAAAAAAAAAAEAAAAAAAADwPwAAAAAAAC5Aj8L1KFyP6j8AAAAAAAAQQAAAAAAAACJAAAAAAAAAEEAAAAAAAAAuQA==",
          "dtype": "f8"
         },
         "xaxis": "x",
         "y": {
          "bdata": "MzMzMzMTNUCKjuTyHxI+QDMzMzMzszBACfmgZ7NqH0AAAAAAACA9QB4Wak3zDiBAMzMzMzMTNUDr4jYawHsmQO7rwDkjykRAAAAAAADYQ0AAAAAAAMA7QDMzMzMzc0dAZmZmZmbmO0AAAAAAAAA9QLivA+eM6CxAZmZmZmZGP0Dr4jYawHsmQAAAAAAAMEFAAAAAAADYQ0BmZmZmZoY0QAAAAAAAID1AFR3J5T9EJkAzMzMzM2M/QAAAAAAAgENAZmZmZmYGNkAAAAAAAAA6QM3MzMzM7CRAMzMzMzNjP0AAAAAAAEA6QDMzMzMzYz9AAAAAAAAgPUCamZmZmfFiQJqZmZmZ8WJAAAAAAAAAOkDNzMzMzMwvQAn5oGez6hxAMzMzMzMTNUDr4jYawHsvQDMzMzMzc0dAAAAAAADAMkBmZmZmZiY4QAAAAAAAAF5ACYofY+52VEAAAAAAAIAzQIqO5PIfQjNAio7k8h9CM0AzMzMzM5MoQDMzMzMzc0dAzczMzMzML0AAAAAAAAA6QAAAAAAAQDpAZmZmZmZGP0BmZmZmZkY/QAAAAAAAYEJAAAAAAACAQ0BmZmZmZuY7QGZmZmZm5jtAio7k8h9CM0AzMzMzM3NHQAAAAAAA2ENAzczMzMxqakCFfNCzWdUqQAAAAAAAgEBAmpmZmZnJMkAAAAAAAAA3QDMzMzMz8yhAAAAAAAAALUAzMzMzM/MoQAn5oGez6hxAAAAAAAAgPUAzMzMzM5M0QAAAAAAAAF5AuK8D54wIIUBmZmZmZkY/QGZmZmZm5jtAAAAAAADYQ0BUUiegiYBCQLivA+eM6CxAAAAAAADAMkBmZmZmZkY/QK62Yn/ZfS5AFR3J5T9EJkBmZmZmZuYcQA==",
          "dtype": "f8"
         },
         "yaxis": "y"
        }
       ],
       "layout": {
        "legend": {
         "title": {
          "text": "who"
         },
         "tracegroupgap": 0
        },
        "template": {
         "data": {
          "bar": [
           {
            "error_x": {
             "color": "#2a3f5f"
            },
            "error_y": {
             "color": "#2a3f5f"
            },
            "marker": {
             "line": {
              "color": "#E5ECF6",
              "width": 0.5
             },
             "pattern": {
              "fillmode": "overlay",
              "size": 10,
              "solidity": 0.2
             }
            },
            "type": "bar"
           }
          ],
          "barpolar": [
           {
            "marker": {
             "line": {
              "color": "#E5ECF6",
              "width": 0.5
             },
             "pattern": {
              "fillmode": "overlay",
              "size": 10,
              "solidity": 0.2
             }
            },
            "type": "barpolar"
           }
          ],
          "carpet": [
           {
            "aaxis": {
             "endlinecolor": "#2a3f5f",
             "gridcolor": "white",
             "linecolor": "white",
             "minorgridcolor": "white",
             "startlinecolor": "#2a3f5f"
            },
            "baxis": {
             "endlinecolor": "#2a3f5f",
             "gridcolor": "white",
             "linecolor": "white",
             "minorgridcolor": "white",
             "startlinecolor": "#2a3f5f"
            },
            "type": "carpet"
           }
          ],
          "choropleth": [
           {
            "colorbar": {
             "outlinewidth": 0,
             "ticks": ""
            },
            "type": "choropleth"
           }
          ],
          "contour": [
           {
            "colorbar": {
             "outlinewidth": 0,
             "ticks": ""
            },
            "colorscale": [
             [
              0,
              "#0d0887"
             ],
             [
              0.1111111111111111,
              "#46039f"
             ],
             [
              0.2222222222222222,
              "#7201a8"
             ],
             [
              0.3333333333333333,
              "#9c179e"
             ],
             [
              0.4444444444444444,
              "#bd3786"
             ],
             [
              0.5555555555555556,
              "#d8576b"
             ],
             [
              0.6666666666666666,
              "#ed7953"
             ],
             [
              0.7777777777777778,
              "#fb9f3a"
             ],
             [
              0.8888888888888888,
              "#fdca26"
             ],
             [
              1,
              "#f0f921"
             ]
            ],
            "type": "contour"
           }
          ],
          "contourcarpet": [
           {
            "colorbar": {
             "outlinewidth": 0,
             "ticks": ""
            },
            "type": "contourcarpet"
           }
          ],
          "heatmap": [
           {
            "colorbar": {
             "outlinewidth": 0,
             "ticks": ""
            },
            "colorscale": [
             [
              0,
              "#0d0887"
             ],
             [
              0.1111111111111111,
              "#46039f"
             ],
             [
              0.2222222222222222,
              "#7201a8"
             ],
             [
              0.3333333333333333,
              "#9c179e"
             ],
             [
              0.4444444444444444,
              "#bd3786"
             ],
             [
              0.5555555555555556,
              "#d8576b"
             ],
             [
              0.6666666666666666,
              "#ed7953"
             ],
             [
              0.7777777777777778,
              "#fb9f3a"
             ],
             [
              0.8888888888888888,
              "#fdca26"
             ],
             [
              1,
              "#f0f921"
             ]
            ],
            "type": "heatmap"
           }
          ],
          "histogram": [
           {
            "marker": {
             "pattern": {
              "fillmode": "overlay",
              "size": 10,
              "solidity": 0.2
             }
            },
            "type": "histogram"
           }
          ],
          "histogram2d": [
           {
            "colorbar": {
             "outlinewidth": 0,
             "ticks": ""
            },
            "colorscale": [
             [
              0,
              "#0d0887"
             ],
             [
              0.1111111111111111,
              "#46039f"
             ],
             [
              0.2222222222222222,
              "#7201a8"
             ],
             [
              0.3333333333333333,
              "#9c179e"
             ],
             [
              0.4444444444444444,
              "#bd3786"
             ],
             [
              0.5555555555555556,
              "#d8576b"
             ],
             [
              0.6666666666666666,
              "#ed7953"
             ],
             [
              0.7777777777777778,
              "#fb9f3a"
             ],
             [
              0.8888888888888888,
              "#fdca26"
             ],
             [
              1,
              "#f0f921"
             ]
            ],
            "type": "histogram2d"
           }
          ],
          "histogram2dcontour": [
           {
            "colorbar": {
             "outlinewidth": 0,
             "ticks": ""
            },
            "colorscale": [
             [
              0,
              "#0d0887"
             ],
             [
              0.1111111111111111,
              "#46039f"
             ],
             [
              0.2222222222222222,
              "#7201a8"
             ],
             [
              0.3333333333333333,
              "#9c179e"
             ],
             [
              0.4444444444444444,
              "#bd3786"
             ],
             [
              0.5555555555555556,
              "#d8576b"
             ],
             [
              0.6666666666666666,
              "#ed7953"
             ],
             [
              0.7777777777777778,
              "#fb9f3a"
             ],
             [
              0.8888888888888888,
              "#fdca26"
             ],
             [
              1,
              "#f0f921"
             ]
            ],
            "type": "histogram2dcontour"
           }
          ],
          "mesh3d": [
           {
            "colorbar": {
             "outlinewidth": 0,
             "ticks": ""
            },
            "type": "mesh3d"
           }
          ],
          "parcoords": [
           {
            "line": {
             "colorbar": {
              "outlinewidth": 0,
              "ticks": ""
             }
            },
            "type": "parcoords"
           }
          ],
          "pie": [
           {
            "automargin": true,
            "type": "pie"
           }
          ],
          "scatter": [
           {
            "fillpattern": {
             "fillmode": "overlay",
             "size": 10,
             "solidity": 0.2
            },
            "type": "scatter"
           }
          ],
          "scatter3d": [
           {
            "line": {
             "colorbar": {
              "outlinewidth": 0,
              "ticks": ""
             }
            },
            "marker": {
             "colorbar": {
              "outlinewidth": 0,
              "ticks": ""
             }
            },
            "type": "scatter3d"
           }
          ],
          "scattercarpet": [
           {
            "marker": {
             "colorbar": {
              "outlinewidth": 0,
              "ticks": ""
             }
            },
            "type": "scattercarpet"
           }
          ],
          "scattergeo": [
           {
            "marker": {
             "colorbar": {
              "outlinewidth": 0,
              "ticks": ""
             }
            },
            "type": "scattergeo"
           }
          ],
          "scattergl": [
           {
            "marker": {
             "colorbar": {
              "outlinewidth": 0,
              "ticks": ""
             }
            },
            "type": "scattergl"
           }
          ],
          "scattermap": [
           {
            "marker": {
             "colorbar": {
              "outlinewidth": 0,
              "ticks": ""
             }
            },
            "type": "scattermap"
           }
          ],
          "scattermapbox": [
           {
            "marker": {
             "colorbar": {
              "outlinewidth": 0,
              "ticks": ""
             }
            },
            "type": "scattermapbox"
           }
          ],
          "scatterpolar": [
           {
            "marker": {
             "colorbar": {
              "outlinewidth": 0,
              "ticks": ""
             }
            },
            "type": "scatterpolar"
           }
          ],
          "scatterpolargl": [
           {
            "marker": {
             "colorbar": {
              "outlinewidth": 0,
              "ticks": ""
             }
            },
            "type": "scatterpolargl"
           }
          ],
          "scatterternary": [
           {
            "marker": {
             "colorbar": {
              "outlinewidth": 0,
              "ticks": ""
             }
            },
            "type": "scatterternary"
           }
          ],
          "surface": [
           {
            "colorbar": {
             "outlinewidth": 0,
             "ticks": ""
            },
            "colorscale": [
             [
              0,
              "#0d0887"
             ],
             [
              0.1111111111111111,
              "#46039f"
             ],
             [
              0.2222222222222222,
              "#7201a8"
             ],
             [
              0.3333333333333333,
              "#9c179e"
             ],
             [
              0.4444444444444444,
              "#bd3786"
             ],
             [
              0.5555555555555556,
              "#d8576b"
             ],
             [
              0.6666666666666666,
              "#ed7953"
             ],
             [
              0.7777777777777778,
              "#fb9f3a"
             ],
             [
              0.8888888888888888,
              "#fdca26"
             ],
             [
              1,
              "#f0f921"
             ]
            ],
            "type": "surface"
           }
          ],
          "table": [
           {
            "cells": {
             "fill": {
              "color": "#EBF0F8"
             },
             "line": {
              "color": "white"
             }
            },
            "header": {
             "fill": {
              "color": "#C8D4E3"
             },
             "line": {
              "color": "white"
             }
            },
            "type": "table"
           }
          ]
         },
         "layout": {
          "annotationdefaults": {
           "arrowcolor": "#2a3f5f",
           "arrowhead": 0,
           "arrowwidth": 1
          },
          "autotypenumbers": "strict",
          "coloraxis": {
           "colorbar": {
            "outlinewidth": 0,
            "ticks": ""
           }
          },
          "colorscale": {
           "diverging": [
            [
             0,
             "#8e0152"
            ],
            [
             0.1,
             "#c51b7d"
            ],
            [
             0.2,
             "#de77ae"
            ],
            [
             0.3,
             "#f1b6da"
            ],
            [
             0.4,
             "#fde0ef"
            ],
            [
             0.5,
             "#f7f7f7"
            ],
            [
             0.6,
             "#e6f5d0"
            ],
            [
             0.7,
             "#b8e186"
            ],
            [
             0.8,
             "#7fbc41"
            ],
            [
             0.9,
             "#4d9221"
            ],
            [
             1,
             "#276419"
            ]
           ],
           "sequential": [
            [
             0,
             "#0d0887"
            ],
            [
             0.1111111111111111,
             "#46039f"
            ],
            [
             0.2222222222222222,
             "#7201a8"
            ],
            [
             0.3333333333333333,
             "#9c179e"
            ],
            [
             0.4444444444444444,
             "#bd3786"
            ],
            [
             0.5555555555555556,
             "#d8576b"
            ],
            [
             0.6666666666666666,
             "#ed7953"
            ],
            [
             0.7777777777777778,
             "#fb9f3a"
            ],
            [
             0.8888888888888888,
             "#fdca26"
            ],
            [
             1,
             "#f0f921"
            ]
           ],
           "sequentialminus": [
            [
             0,
             "#0d0887"
            ],
            [
             0.1111111111111111,
             "#46039f"
            ],
            [
             0.2222222222222222,
             "#7201a8"
            ],
            [
             0.3333333333333333,
             "#9c179e"
            ],
            [
             0.4444444444444444,
             "#bd3786"
            ],
            [
             0.5555555555555556,
             "#d8576b"
            ],
            [
             0.6666666666666666,
             "#ed7953"
            ],
            [
             0.7777777777777778,
             "#fb9f3a"
            ],
            [
             0.8888888888888888,
             "#fdca26"
            ],
            [
             1,
             "#f0f921"
            ]
           ]
          },
          "colorway": [
           "#636efa",
           "#EF553B",
           "#00cc96",
           "#ab63fa",
           "#FFA15A",
           "#19d3f3",
           "#FF6692",
           "#B6E880",
           "#FF97FF",
           "#FECB52"
          ],
          "font": {
           "color": "#2a3f5f"
          },
          "geo": {
           "bgcolor": "white",
           "lakecolor": "white",
           "landcolor": "#E5ECF6",
           "showlakes": true,
           "showland": true,
           "subunitcolor": "white"
          },
          "hoverlabel": {
           "align": "left"
          },
          "hovermode": "closest",
          "mapbox": {
           "style": "light"
          },
          "paper_bgcolor": "white",
          "plot_bgcolor": "#E5ECF6",
          "polar": {
           "angularaxis": {
            "gridcolor": "white",
            "linecolor": "white",
            "ticks": ""
           },
           "bgcolor": "#E5ECF6",
           "radialaxis": {
            "gridcolor": "white",
            "linecolor": "white",
            "ticks": ""
           }
          },
          "scene": {
           "xaxis": {
            "backgroundcolor": "#E5ECF6",
            "gridcolor": "white",
            "gridwidth": 2,
            "linecolor": "white",
            "showbackground": true,
            "ticks": "",
            "zerolinecolor": "white"
           },
           "yaxis": {
            "backgroundcolor": "#E5ECF6",
            "gridcolor": "white",
            "gridwidth": 2,
            "linecolor": "white",
            "showbackground": true,
            "ticks": "",
            "zerolinecolor": "white"
           },
           "zaxis": {
            "backgroundcolor": "#E5ECF6",
            "gridcolor": "white",
            "gridwidth": 2,
            "linecolor": "white",
            "showbackground": true,
            "ticks": "",
            "zerolinecolor": "white"
           }
          },
          "shapedefaults": {
           "line": {
            "color": "#2a3f5f"
           }
          },
          "ternary": {
           "aaxis": {
            "gridcolor": "white",
            "linecolor": "white",
            "ticks": ""
           },
           "baxis": {
            "gridcolor": "white",
            "linecolor": "white",
            "ticks": ""
           },
           "bgcolor": "#E5ECF6",
           "caxis": {
            "gridcolor": "white",
            "linecolor": "white",
            "ticks": ""
           }
          },
          "title": {
           "x": 0.05
          },
          "xaxis": {
           "automargin": true,
           "gridcolor": "white",
           "linecolor": "white",
           "ticks": "",
           "title": {
            "standoff": 15
           },
           "zerolinecolor": "white",
           "zerolinewidth": 2
          },
          "yaxis": {
           "automargin": true,
           "gridcolor": "white",
           "linecolor": "white",
           "ticks": "",
           "title": {
            "standoff": 15
           },
           "zerolinecolor": "white",
           "zerolinewidth": 2
          }
         }
        },
        "title": {
         "text": "Plot of Titanic Dataset"
        },
        "xaxis": {
         "anchor": "y",
         "domain": [
          0,
          1
         ],
         "title": {
          "text": "age"
         }
        },
        "yaxis": {
         "anchor": "x",
         "domain": [
          0,
          1
         ],
         "title": {
          "text": "fare"
         }
        }
       }
      }
     },
     "metadata": {},
     "output_type": "display_data"
    }
   ],
   "source": [
    "ti=sns.load_dataset('titanic')\n",
    "fig=px.scatter(ti,x='age',y='fare',title='Plot of Titanic Dataset',color='who')\n",
    "fig.show()"
   ]
  },
  {
   "cell_type": "markdown",
   "id": "3df6d5cb",
   "metadata": {},
   "source": [
    "## Bubble Chart"
   ]
  },
  {
   "cell_type": "code",
   "execution_count": 13,
   "id": "736feaf0",
   "metadata": {},
   "outputs": [
    {
     "name": "stdout",
     "output_type": "stream",
     "text": [
      "<class 'pandas.core.frame.DataFrame'>\n",
      "RangeIndex: 53940 entries, 0 to 53939\n",
      "Data columns (total 10 columns):\n",
      " #   Column   Non-Null Count  Dtype   \n",
      "---  ------   --------------  -----   \n",
      " 0   carat    53940 non-null  float64 \n",
      " 1   cut      53940 non-null  category\n",
      " 2   color    53940 non-null  category\n",
      " 3   clarity  53940 non-null  category\n",
      " 4   depth    53940 non-null  float64 \n",
      " 5   table    53940 non-null  float64 \n",
      " 6   price    53940 non-null  int64   \n",
      " 7   x        53940 non-null  float64 \n",
      " 8   y        53940 non-null  float64 \n",
      " 9   z        53940 non-null  float64 \n",
      "dtypes: category(3), float64(6), int64(1)\n",
      "memory usage: 3.0 MB\n"
     ]
    }
   ],
   "source": [
    "df.info()"
   ]
  },
  {
   "cell_type": "code",
   "execution_count": 14,
   "id": "ebab79af",
   "metadata": {},
   "outputs": [
    {
     "data": {
      "text/html": [
       "<div>\n",
       "<style scoped>\n",
       "    .dataframe tbody tr th:only-of-type {\n",
       "        vertical-align: middle;\n",
       "    }\n",
       "\n",
       "    .dataframe tbody tr th {\n",
       "        vertical-align: top;\n",
       "    }\n",
       "\n",
       "    .dataframe thead th {\n",
       "        text-align: right;\n",
       "    }\n",
       "</style>\n",
       "<table border=\"1\" class=\"dataframe\">\n",
       "  <thead>\n",
       "    <tr style=\"text-align: right;\">\n",
       "      <th></th>\n",
       "      <th>carat</th>\n",
       "      <th>depth</th>\n",
       "      <th>table</th>\n",
       "      <th>price</th>\n",
       "      <th>x</th>\n",
       "      <th>y</th>\n",
       "      <th>z</th>\n",
       "    </tr>\n",
       "  </thead>\n",
       "  <tbody>\n",
       "    <tr>\n",
       "      <th>count</th>\n",
       "      <td>53940.000000</td>\n",
       "      <td>53940.000000</td>\n",
       "      <td>53940.000000</td>\n",
       "      <td>53940.000000</td>\n",
       "      <td>53940.000000</td>\n",
       "      <td>53940.000000</td>\n",
       "      <td>53940.000000</td>\n",
       "    </tr>\n",
       "    <tr>\n",
       "      <th>mean</th>\n",
       "      <td>0.797940</td>\n",
       "      <td>61.749405</td>\n",
       "      <td>57.457184</td>\n",
       "      <td>3932.799722</td>\n",
       "      <td>5.731157</td>\n",
       "      <td>5.734526</td>\n",
       "      <td>3.538734</td>\n",
       "    </tr>\n",
       "    <tr>\n",
       "      <th>std</th>\n",
       "      <td>0.474011</td>\n",
       "      <td>1.432621</td>\n",
       "      <td>2.234491</td>\n",
       "      <td>3989.439738</td>\n",
       "      <td>1.121761</td>\n",
       "      <td>1.142135</td>\n",
       "      <td>0.705699</td>\n",
       "    </tr>\n",
       "    <tr>\n",
       "      <th>min</th>\n",
       "      <td>0.200000</td>\n",
       "      <td>43.000000</td>\n",
       "      <td>43.000000</td>\n",
       "      <td>326.000000</td>\n",
       "      <td>0.000000</td>\n",
       "      <td>0.000000</td>\n",
       "      <td>0.000000</td>\n",
       "    </tr>\n",
       "    <tr>\n",
       "      <th>25%</th>\n",
       "      <td>0.400000</td>\n",
       "      <td>61.000000</td>\n",
       "      <td>56.000000</td>\n",
       "      <td>950.000000</td>\n",
       "      <td>4.710000</td>\n",
       "      <td>4.720000</td>\n",
       "      <td>2.910000</td>\n",
       "    </tr>\n",
       "    <tr>\n",
       "      <th>50%</th>\n",
       "      <td>0.700000</td>\n",
       "      <td>61.800000</td>\n",
       "      <td>57.000000</td>\n",
       "      <td>2401.000000</td>\n",
       "      <td>5.700000</td>\n",
       "      <td>5.710000</td>\n",
       "      <td>3.530000</td>\n",
       "    </tr>\n",
       "    <tr>\n",
       "      <th>75%</th>\n",
       "      <td>1.040000</td>\n",
       "      <td>62.500000</td>\n",
       "      <td>59.000000</td>\n",
       "      <td>5324.250000</td>\n",
       "      <td>6.540000</td>\n",
       "      <td>6.540000</td>\n",
       "      <td>4.040000</td>\n",
       "    </tr>\n",
       "    <tr>\n",
       "      <th>max</th>\n",
       "      <td>5.010000</td>\n",
       "      <td>79.000000</td>\n",
       "      <td>95.000000</td>\n",
       "      <td>18823.000000</td>\n",
       "      <td>10.740000</td>\n",
       "      <td>58.900000</td>\n",
       "      <td>31.800000</td>\n",
       "    </tr>\n",
       "  </tbody>\n",
       "</table>\n",
       "</div>"
      ],
      "text/plain": [
       "              carat         depth         table         price             x  \\\n",
       "count  53940.000000  53940.000000  53940.000000  53940.000000  53940.000000   \n",
       "mean       0.797940     61.749405     57.457184   3932.799722      5.731157   \n",
       "std        0.474011      1.432621      2.234491   3989.439738      1.121761   \n",
       "min        0.200000     43.000000     43.000000    326.000000      0.000000   \n",
       "25%        0.400000     61.000000     56.000000    950.000000      4.710000   \n",
       "50%        0.700000     61.800000     57.000000   2401.000000      5.700000   \n",
       "75%        1.040000     62.500000     59.000000   5324.250000      6.540000   \n",
       "max        5.010000     79.000000     95.000000  18823.000000     10.740000   \n",
       "\n",
       "                  y             z  \n",
       "count  53940.000000  53940.000000  \n",
       "mean       5.734526      3.538734  \n",
       "std        1.142135      0.705699  \n",
       "min        0.000000      0.000000  \n",
       "25%        4.720000      2.910000  \n",
       "50%        5.710000      3.530000  \n",
       "75%        6.540000      4.040000  \n",
       "max       58.900000     31.800000  "
      ]
     },
     "execution_count": 14,
     "metadata": {},
     "output_type": "execute_result"
    }
   ],
   "source": [
    "df.describe()"
   ]
  },
  {
   "cell_type": "code",
   "execution_count": 12,
   "id": "368b1f0c",
   "metadata": {},
   "outputs": [
    {
     "data": {
      "application/vnd.plotly.v1+json": {
       "config": {
        "plotlyServerURL": "https://plot.ly"
       },
       "data": [
        {
         "hovertemplate": "who=man<br>age=%{x}<br>fare=%{marker.size}<extra></extra>",
         "legendgroup": "man",
         "marker": {
          "color": "#636efa",
          "size": {
           "bdata": "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",
           "dtype": "f8"
          },
          "sizemode": "area",
          "sizeref": 1.280823,
          "symbol": "circle"
         },
         "mode": "markers",
         "name": "man",
         "orientation": "v",
         "showlegend": true,
         "type": "scatter",
         "x": {
          "bdata": "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",
          "dtype": "f8"
         },
         "xaxis": "x",
         "y": {
          "bdata": "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",
          "dtype": "f8"
         },
         "yaxis": "y"
        },
        {
         "hovertemplate": "who=woman<br>age=%{x}<br>fare=%{marker.size}<extra></extra>",
         "legendgroup": "woman",
         "marker": {
          "color": "#EF553B",
          "size": {
           "bdata": "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",
           "dtype": "f8"
          },
          "sizemode": "area",
          "sizeref": 1.280823,
          "symbol": "circle"
         },
         "mode": "markers",
         "name": "woman",
         "orientation": "v",
         "showlegend": true,
         "type": "scatter",
         "x": {
          "bdata": "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",
          "dtype": "f8"
         },
         "xaxis": "x",
         "y": {
          "bdata": "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",
          "dtype": "f8"
         },
         "yaxis": "y"
        },
        {
         "hovertemplate": "who=child<br>age=%{x}<br>fare=%{marker.size}<extra></extra>",
         "legendgroup": "child",
         "marker": {
          "color": "#00cc96",
          "size": {
           "bdata": "MzMzMzMTNUCKjuTyHxI+QDMzMzMzszBACfmgZ7NqH0AAAAAAACA9QB4Wak3zDiBAMzMzMzMTNUDr4jYawHsmQO7rwDkjykRAAAAAAADYQ0AAAAAAAMA7QDMzMzMzc0dAZmZmZmbmO0AAAAAAAAA9QLivA+eM6CxAZmZmZmZGP0Dr4jYawHsmQAAAAAAAMEFAAAAAAADYQ0BmZmZmZoY0QAAAAAAAID1AFR3J5T9EJkAzMzMzM2M/QAAAAAAAgENAZmZmZmYGNkAAAAAAAAA6QM3MzMzM7CRAMzMzMzNjP0AAAAAAAEA6QDMzMzMzYz9AAAAAAAAgPUCamZmZmfFiQJqZmZmZ8WJAAAAAAAAAOkDNzMzMzMwvQAn5oGez6hxAMzMzMzMTNUDr4jYawHsvQDMzMzMzc0dAAAAAAADAMkBmZmZmZiY4QAAAAAAAAF5ACYofY+52VEAAAAAAAIAzQIqO5PIfQjNAio7k8h9CM0AzMzMzM5MoQDMzMzMzc0dAzczMzMzML0AAAAAAAAA6QAAAAAAAQDpAZmZmZmZGP0BmZmZmZkY/QAAAAAAAYEJAAAAAAACAQ0BmZmZmZuY7QGZmZmZm5jtAio7k8h9CM0AzMzMzM3NHQAAAAAAA2ENAzczMzMxqakCFfNCzWdUqQAAAAAAAgEBAmpmZmZnJMkAAAAAAAAA3QDMzMzMz8yhAAAAAAAAALUAzMzMzM/MoQAn5oGez6hxAAAAAAAAgPUAzMzMzM5M0QAAAAAAAAF5AuK8D54wIIUBmZmZmZkY/QGZmZmZm5jtAAAAAAADYQ0BUUiegiYBCQLivA+eM6CxAAAAAAADAMkBmZmZmZkY/QK62Yn/ZfS5AFR3J5T9EJkBmZmZmZuYcQA==",
           "dtype": "f8"
          },
          "sizemode": "area",
          "sizeref": 1.280823,
          "symbol": "circle"
         },
         "mode": "markers",
         "name": "child",
         "orientation": "v",
         "showlegend": true,
         "type": "scatter",
         "x": {
          "bdata": "AAAAAAAAAEAAAAAAAAAsQAAAAAAAABBAAAAAAAAALEAAAAAAAAAAQAAAAAAAAC5AAAAAAAAAIEAAAAAAAAAsQAAAAAAAAAhAAAAAAAAAHEAAAAAAAAAUQAAAAAAAACZAAAAAAAAAEECPwvUoXI/qPwAAAAAAAC1AAAAAAAAAAEAAAAAAAAAoQAAAAAAAACJAAAAAAAAA8D8AAAAAAAAiQAAAAAAAABBAAAAAAAAA8D8AAAAAAAAiQAAAAAAAAPA/AAAAAAAAEEAAAAAAAAAIQAAAAAAAAABAAAAAAAAAFEAAAAAAAAAgQAAAAAAAAAhAAAAAAAAAHEAAAAAAAAAAQHE9CtejcO0/AAAAAAAAAEAAAAAAAAAIQAAAAAAAAC5AAAAAAAAACEAAAAAAAADwPwAAAAAAAPA/AAAAAAAACEAAAAAAAAAkQAAAAAAAACxAAAAAAAAAEEAAAAAAAAAqQAAAAAAAABRAAAAAAAAA6D8AAAAAAAAAQAAAAAAAACJAAAAAAAAAIkAAAAAAAAAAQAAAAAAAABxAAAAAAAAAIkAAAAAAAAAmQAAAAAAAACBAAAAAAAAAEEAAAAAAAAAiQAAAAAAAAABAAAAAAAAA6D8AAAAAAAAsQAAAAAAAACxAAAAAAAAALkAAAAAAAAAQQAAAAAAAABhAAAAAAAAAJkAAAAAAAAAQQAAAAAAAABhAcT0K16Nw5T8AAAAAAAAUQAAAAAAAACpAAAAAAAAAIEAAAAAAAADwPwAAAAAAACZA4XoUrkfh2j8AAAAAAAAYQAAAAAAAACRAAAAAAAAAAEAAAAAAAADwPwAAAAAAAC5Aj8L1KFyP6j8AAAAAAAAQQAAAAAAAACJAAAAAAAAAEEAAAAAAAAAuQA==",
          "dtype": "f8"
         },
         "xaxis": "x",
         "y": {
          "bdata": "MzMzMzMTNUCKjuTyHxI+QDMzMzMzszBACfmgZ7NqH0AAAAAAACA9QB4Wak3zDiBAMzMzMzMTNUDr4jYawHsmQO7rwDkjykRAAAAAAADYQ0AAAAAAAMA7QDMzMzMzc0dAZmZmZmbmO0AAAAAAAAA9QLivA+eM6CxAZmZmZmZGP0Dr4jYawHsmQAAAAAAAMEFAAAAAAADYQ0BmZmZmZoY0QAAAAAAAID1AFR3J5T9EJkAzMzMzM2M/QAAAAAAAgENAZmZmZmYGNkAAAAAAAAA6QM3MzMzM7CRAMzMzMzNjP0AAAAAAAEA6QDMzMzMzYz9AAAAAAAAgPUCamZmZmfFiQJqZmZmZ8WJAAAAAAAAAOkDNzMzMzMwvQAn5oGez6hxAMzMzMzMTNUDr4jYawHsvQDMzMzMzc0dAAAAAAADAMkBmZmZmZiY4QAAAAAAAAF5ACYofY+52VEAAAAAAAIAzQIqO5PIfQjNAio7k8h9CM0AzMzMzM5MoQDMzMzMzc0dAzczMzMzML0AAAAAAAAA6QAAAAAAAQDpAZmZmZmZGP0BmZmZmZkY/QAAAAAAAYEJAAAAAAACAQ0BmZmZmZuY7QGZmZmZm5jtAio7k8h9CM0AzMzMzM3NHQAAAAAAA2ENAzczMzMxqakCFfNCzWdUqQAAAAAAAgEBAmpmZmZnJMkAAAAAAAAA3QDMzMzMz8yhAAAAAAAAALUAzMzMzM/MoQAn5oGez6hxAAAAAAAAgPUAzMzMzM5M0QAAAAAAAAF5AuK8D54wIIUBmZmZmZkY/QGZmZmZm5jtAAAAAAADYQ0BUUiegiYBCQLivA+eM6CxAAAAAAADAMkBmZmZmZkY/QK62Yn/ZfS5AFR3J5T9EJkBmZmZmZuYcQA==",
          "dtype": "f8"
         },
         "yaxis": "y"
        }
       ],
       "layout": {
        "legend": {
         "itemsizing": "constant",
         "title": {
          "text": "who"
         },
         "tracegroupgap": 0
        },
        "margin": {
         "t": 60
        },
        "template": {
         "data": {
          "bar": [
           {
            "error_x": {
             "color": "#2a3f5f"
            },
            "error_y": {
             "color": "#2a3f5f"
            },
            "marker": {
             "line": {
              "color": "#E5ECF6",
              "width": 0.5
             },
             "pattern": {
              "fillmode": "overlay",
              "size": 10,
              "solidity": 0.2
             }
            },
            "type": "bar"
           }
          ],
          "barpolar": [
           {
            "marker": {
             "line": {
              "color": "#E5ECF6",
              "width": 0.5
             },
             "pattern": {
              "fillmode": "overlay",
              "size": 10,
              "solidity": 0.2
             }
            },
            "type": "barpolar"
           }
          ],
          "carpet": [
           {
            "aaxis": {
             "endlinecolor": "#2a3f5f",
             "gridcolor": "white",
             "linecolor": "white",
             "minorgridcolor": "white",
             "startlinecolor": "#2a3f5f"
            },
            "baxis": {
             "endlinecolor": "#2a3f5f",
             "gridcolor": "white",
             "linecolor": "white",
             "minorgridcolor": "white",
             "startlinecolor": "#2a3f5f"
            },
            "type": "carpet"
           }
          ],
          "choropleth": [
           {
            "colorbar": {
             "outlinewidth": 0,
             "ticks": ""
            },
            "type": "choropleth"
           }
          ],
          "contour": [
           {
            "colorbar": {
             "outlinewidth": 0,
             "ticks": ""
            },
            "colorscale": [
             [
              0,
              "#0d0887"
             ],
             [
              0.1111111111111111,
              "#46039f"
             ],
             [
              0.2222222222222222,
              "#7201a8"
             ],
             [
              0.3333333333333333,
              "#9c179e"
             ],
             [
              0.4444444444444444,
              "#bd3786"
             ],
             [
              0.5555555555555556,
              "#d8576b"
             ],
             [
              0.6666666666666666,
              "#ed7953"
             ],
             [
              0.7777777777777778,
              "#fb9f3a"
             ],
             [
              0.8888888888888888,
              "#fdca26"
             ],
             [
              1,
              "#f0f921"
             ]
            ],
            "type": "contour"
           }
          ],
          "contourcarpet": [
           {
            "colorbar": {
             "outlinewidth": 0,
             "ticks": ""
            },
            "type": "contourcarpet"
           }
          ],
          "heatmap": [
           {
            "colorbar": {
             "outlinewidth": 0,
             "ticks": ""
            },
            "colorscale": [
             [
              0,
              "#0d0887"
             ],
             [
              0.1111111111111111,
              "#46039f"
             ],
             [
              0.2222222222222222,
              "#7201a8"
             ],
             [
              0.3333333333333333,
              "#9c179e"
             ],
             [
              0.4444444444444444,
              "#bd3786"
             ],
             [
              0.5555555555555556,
              "#d8576b"
             ],
             [
              0.6666666666666666,
              "#ed7953"
             ],
             [
              0.7777777777777778,
              "#fb9f3a"
             ],
             [
              0.8888888888888888,
              "#fdca26"
             ],
             [
              1,
              "#f0f921"
             ]
            ],
            "type": "heatmap"
           }
          ],
          "histogram": [
           {
            "marker": {
             "pattern": {
              "fillmode": "overlay",
              "size": 10,
              "solidity": 0.2
             }
            },
            "type": "histogram"
           }
          ],
          "histogram2d": [
           {
            "colorbar": {
             "outlinewidth": 0,
             "ticks": ""
            },
            "colorscale": [
             [
              0,
              "#0d0887"
             ],
             [
              0.1111111111111111,
              "#46039f"
             ],
             [
              0.2222222222222222,
              "#7201a8"
             ],
             [
              0.3333333333333333,
              "#9c179e"
             ],
             [
              0.4444444444444444,
              "#bd3786"
             ],
             [
              0.5555555555555556,
              "#d8576b"
             ],
             [
              0.6666666666666666,
              "#ed7953"
             ],
             [
              0.7777777777777778,
              "#fb9f3a"
             ],
             [
              0.8888888888888888,
              "#fdca26"
             ],
             [
              1,
              "#f0f921"
             ]
            ],
            "type": "histogram2d"
           }
          ],
          "histogram2dcontour": [
           {
            "colorbar": {
             "outlinewidth": 0,
             "ticks": ""
            },
            "colorscale": [
             [
              0,
              "#0d0887"
             ],
             [
              0.1111111111111111,
              "#46039f"
             ],
             [
              0.2222222222222222,
              "#7201a8"
             ],
             [
              0.3333333333333333,
              "#9c179e"
             ],
             [
              0.4444444444444444,
              "#bd3786"
             ],
             [
              0.5555555555555556,
              "#d8576b"
             ],
             [
              0.6666666666666666,
              "#ed7953"
             ],
             [
              0.7777777777777778,
              "#fb9f3a"
             ],
             [
              0.8888888888888888,
              "#fdca26"
             ],
             [
              1,
              "#f0f921"
             ]
            ],
            "type": "histogram2dcontour"
           }
          ],
          "mesh3d": [
           {
            "colorbar": {
             "outlinewidth": 0,
             "ticks": ""
            },
            "type": "mesh3d"
           }
          ],
          "parcoords": [
           {
            "line": {
             "colorbar": {
              "outlinewidth": 0,
              "ticks": ""
             }
            },
            "type": "parcoords"
           }
          ],
          "pie": [
           {
            "automargin": true,
            "type": "pie"
           }
          ],
          "scatter": [
           {
            "fillpattern": {
             "fillmode": "overlay",
             "size": 10,
             "solidity": 0.2
            },
            "type": "scatter"
           }
          ],
          "scatter3d": [
           {
            "line": {
             "colorbar": {
              "outlinewidth": 0,
              "ticks": ""
             }
            },
            "marker": {
             "colorbar": {
              "outlinewidth": 0,
              "ticks": ""
             }
            },
            "type": "scatter3d"
           }
          ],
          "scattercarpet": [
           {
            "marker": {
             "colorbar": {
              "outlinewidth": 0,
              "ticks": ""
             }
            },
            "type": "scattercarpet"
           }
          ],
          "scattergeo": [
           {
            "marker": {
             "colorbar": {
              "outlinewidth": 0,
              "ticks": ""
             }
            },
            "type": "scattergeo"
           }
          ],
          "scattergl": [
           {
            "marker": {
             "colorbar": {
              "outlinewidth": 0,
              "ticks": ""
             }
            },
            "type": "scattergl"
           }
          ],
          "scattermap": [
           {
            "marker": {
             "colorbar": {
              "outlinewidth": 0,
              "ticks": ""
             }
            },
            "type": "scattermap"
           }
          ],
          "scattermapbox": [
           {
            "marker": {
             "colorbar": {
              "outlinewidth": 0,
              "ticks": ""
             }
            },
            "type": "scattermapbox"
           }
          ],
          "scatterpolar": [
           {
            "marker": {
             "colorbar": {
              "outlinewidth": 0,
              "ticks": ""
             }
            },
            "type": "scatterpolar"
           }
          ],
          "scatterpolargl": [
           {
            "marker": {
             "colorbar": {
              "outlinewidth": 0,
              "ticks": ""
             }
            },
            "type": "scatterpolargl"
           }
          ],
          "scatterternary": [
           {
            "marker": {
             "colorbar": {
              "outlinewidth": 0,
              "ticks": ""
             }
            },
            "type": "scatterternary"
           }
          ],
          "surface": [
           {
            "colorbar": {
             "outlinewidth": 0,
             "ticks": ""
            },
            "colorscale": [
             [
              0,
              "#0d0887"
             ],
             [
              0.1111111111111111,
              "#46039f"
             ],
             [
              0.2222222222222222,
              "#7201a8"
             ],
             [
              0.3333333333333333,
              "#9c179e"
             ],
             [
              0.4444444444444444,
              "#bd3786"
             ],
             [
              0.5555555555555556,
              "#d8576b"
             ],
             [
              0.6666666666666666,
              "#ed7953"
             ],
             [
              0.7777777777777778,
              "#fb9f3a"
             ],
             [
              0.8888888888888888,
              "#fdca26"
             ],
             [
              1,
              "#f0f921"
             ]
            ],
            "type": "surface"
           }
          ],
          "table": [
           {
            "cells": {
             "fill": {
              "color": "#EBF0F8"
             },
             "line": {
              "color": "white"
             }
            },
            "header": {
             "fill": {
              "color": "#C8D4E3"
             },
             "line": {
              "color": "white"
             }
            },
            "type": "table"
           }
          ]
         },
         "layout": {
          "annotationdefaults": {
           "arrowcolor": "#2a3f5f",
           "arrowhead": 0,
           "arrowwidth": 1
          },
          "autotypenumbers": "strict",
          "coloraxis": {
           "colorbar": {
            "outlinewidth": 0,
            "ticks": ""
           }
          },
          "colorscale": {
           "diverging": [
            [
             0,
             "#8e0152"
            ],
            [
             0.1,
             "#c51b7d"
            ],
            [
             0.2,
             "#de77ae"
            ],
            [
             0.3,
             "#f1b6da"
            ],
            [
             0.4,
             "#fde0ef"
            ],
            [
             0.5,
             "#f7f7f7"
            ],
            [
             0.6,
             "#e6f5d0"
            ],
            [
             0.7,
             "#b8e186"
            ],
            [
             0.8,
             "#7fbc41"
            ],
            [
             0.9,
             "#4d9221"
            ],
            [
             1,
             "#276419"
            ]
           ],
           "sequential": [
            [
             0,
             "#0d0887"
            ],
            [
             0.1111111111111111,
             "#46039f"
            ],
            [
             0.2222222222222222,
             "#7201a8"
            ],
            [
             0.3333333333333333,
             "#9c179e"
            ],
            [
             0.4444444444444444,
             "#bd3786"
            ],
            [
             0.5555555555555556,
             "#d8576b"
            ],
            [
             0.6666666666666666,
             "#ed7953"
            ],
            [
             0.7777777777777778,
             "#fb9f3a"
            ],
            [
             0.8888888888888888,
             "#fdca26"
            ],
            [
             1,
             "#f0f921"
            ]
           ],
           "sequentialminus": [
            [
             0,
             "#0d0887"
            ],
            [
             0.1111111111111111,
             "#46039f"
            ],
            [
             0.2222222222222222,
             "#7201a8"
            ],
            [
             0.3333333333333333,
             "#9c179e"
            ],
            [
             0.4444444444444444,
             "#bd3786"
            ],
            [
             0.5555555555555556,
             "#d8576b"
            ],
            [
             0.6666666666666666,
             "#ed7953"
            ],
            [
             0.7777777777777778,
             "#fb9f3a"
            ],
            [
             0.8888888888888888,
             "#fdca26"
            ],
            [
             1,
             "#f0f921"
            ]
           ]
          },
          "colorway": [
           "#636efa",
           "#EF553B",
           "#00cc96",
           "#ab63fa",
           "#FFA15A",
           "#19d3f3",
           "#FF6692",
           "#B6E880",
           "#FF97FF",
           "#FECB52"
          ],
          "font": {
           "color": "#2a3f5f"
          },
          "geo": {
           "bgcolor": "white",
           "lakecolor": "white",
           "landcolor": "#E5ECF6",
           "showlakes": true,
           "showland": true,
           "subunitcolor": "white"
          },
          "hoverlabel": {
           "align": "left"
          },
          "hovermode": "closest",
          "mapbox": {
           "style": "light"
          },
          "paper_bgcolor": "white",
          "plot_bgcolor": "#E5ECF6",
          "polar": {
           "angularaxis": {
            "gridcolor": "white",
            "linecolor": "white",
            "ticks": ""
           },
           "bgcolor": "#E5ECF6",
           "radialaxis": {
            "gridcolor": "white",
            "linecolor": "white",
            "ticks": ""
           }
          },
          "scene": {
           "xaxis": {
            "backgroundcolor": "#E5ECF6",
            "gridcolor": "white",
            "gridwidth": 2,
            "linecolor": "white",
            "showbackground": true,
            "ticks": "",
            "zerolinecolor": "white"
           },
           "yaxis": {
            "backgroundcolor": "#E5ECF6",
            "gridcolor": "white",
            "gridwidth": 2,
            "linecolor": "white",
            "showbackground": true,
            "ticks": "",
            "zerolinecolor": "white"
           },
           "zaxis": {
            "backgroundcolor": "#E5ECF6",
            "gridcolor": "white",
            "gridwidth": 2,
            "linecolor": "white",
            "showbackground": true,
            "ticks": "",
            "zerolinecolor": "white"
           }
          },
          "shapedefaults": {
           "line": {
            "color": "#2a3f5f"
           }
          },
          "ternary": {
           "aaxis": {
            "gridcolor": "white",
            "linecolor": "white",
            "ticks": ""
           },
           "baxis": {
            "gridcolor": "white",
            "linecolor": "white",
            "ticks": ""
           },
           "bgcolor": "#E5ECF6",
           "caxis": {
            "gridcolor": "white",
            "linecolor": "white",
            "ticks": ""
           }
          },
          "title": {
           "x": 0.05
          },
          "xaxis": {
           "automargin": true,
           "gridcolor": "white",
           "linecolor": "white",
           "ticks": "",
           "title": {
            "standoff": 15
           },
           "zerolinecolor": "white",
           "zerolinewidth": 2
          },
          "yaxis": {
           "automargin": true,
           "gridcolor": "white",
           "linecolor": "white",
           "ticks": "",
           "title": {
            "standoff": 15
           },
           "zerolinecolor": "white",
           "zerolinewidth": 2
          }
         }
        },
        "xaxis": {
         "anchor": "y",
         "domain": [
          0,
          1
         ],
         "title": {
          "text": "age"
         }
        },
        "yaxis": {
         "anchor": "x",
         "domain": [
          0,
          1
         ],
         "title": {
          "text": "fare"
         }
        }
       }
      }
     },
     "metadata": {},
     "output_type": "display_data"
    }
   ],
   "source": [
    "fig=px.scatter(ti,x='age',y='fare',color='who',size='fare')\n",
    "fig.show()"
   ]
  }
 ],
 "metadata": {
  "kernelspec": {
   "display_name": "EDA",
   "language": "python",
   "name": "python3"
  },
  "language_info": {
   "codemirror_mode": {
    "name": "ipython",
    "version": 3
   },
   "file_extension": ".py",
   "mimetype": "text/x-python",
   "name": "python",
   "nbconvert_exporter": "python",
   "pygments_lexer": "ipython3",
   "version": "3.13.2"
  }
 },
 "nbformat": 4,
 "nbformat_minor": 5
}
